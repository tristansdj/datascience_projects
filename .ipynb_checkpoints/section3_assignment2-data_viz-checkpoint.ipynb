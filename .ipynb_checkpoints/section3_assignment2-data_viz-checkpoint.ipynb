{
 "cells": [
  {
   "cell_type": "code",
   "execution_count": 2,
   "id": "f97029c8-430a-46a6-9ac5-e940b55da27d",
   "metadata": {},
   "outputs": [],
   "source": [
    "%matplotlib inline\n",
    "import numpy as np\n",
    "import pandas as pd\n",
    "import matplotlib.pyplot as plt\n",
    "import seaborn as sns\n",
    "np.random.seed(1)"
   ]
  },
  {
   "cell_type": "markdown",
   "id": "999711be-6ba7-4f35-bb97-e4b817f013eb",
   "metadata": {},
   "source": [
    "# Question 1"
   ]
  },
  {
   "cell_type": "markdown",
   "id": "5922269f-b1cd-42d5-af7c-1a59b4a8fa27",
   "metadata": {},
   "source": [
    "Assuming the 6 sided die is fair, the probability of getting a 1 is 1/6"
   ]
  },
  {
   "cell_type": "markdown",
   "id": "0b7c71ef-11c6-431f-ad06-90b37dab53b5",
   "metadata": {},
   "source": [
    "# Question 2"
   ]
  },
  {
   "cell_type": "markdown",
   "id": "c94c063e-22a6-4a51-9355-cbe179f0f777",
   "metadata": {},
   "source": [
    "Assuming the 6 sided die is fair, the probability of getting an odd number is 3/6 = 1/2."
   ]
  },
  {
   "cell_type": "markdown",
   "id": "ba2c2717-cd2b-40f7-83e5-60da96041ca7",
   "metadata": {},
   "source": [
    "# Question 3"
   ]
  },
  {
   "cell_type": "markdown",
   "id": "de8b4858-c191-4c89-8b28-9b24fdd0f5c4",
   "metadata": {},
   "source": [
    "Assuming two 6-sided fair die, what is the probability of the sum of the values on the two die being 9?\n",
    "\n",
    "Experiment: \"independent rolls of two 6-sided fair die in a row\"\n",
    "Sample space: [1..6]x[1..6]\n",
    "Discrete random variables: \n",
    "    > x: result of the first die roll - PMF px(.)\n",
    "    > y: result of the second die roll - PMF py(.)\n",
    "\n",
    "Draw the branch traversal probability tree and obtain the compound PMF pxy(.,.). \n",
    "\n",
    "Define random variable s = x+y. The event space associated with s is [2..24]. What is the PMF of s? Count the number of (x,y) pairs that lead to each value in [2..24]. \n",
    "\n",
    "For the event [s=9], there are 4 possibilities:\n",
    "    [s=9] = [x=3]Inter[y=6] U [x=4]Inter[y=5] U [x=5]Inter[y=4] U [x=6]Inter[y=3]\n",
    "\n",
    "But each pair of these \"inter\" events is mutually mutually exclusive, so:\n",
    "\n",
    "P([s=9]) = P([x=3]Inter[y=6]) + P([x=4]Inter[y=5]) + P([x=5]Inter[y=4]) + P([x=6]Inter[y=3])\n",
    "\n",
    "But the die rolls are independent so P([x=3]Inter[y=6]) = P([x=3])P([y=6]) = 1/6x1/6 = 1/36, etc. \n",
    "So P([s=9]) = 4/36 = 1/9"
   ]
  },
  {
   "cell_type": "markdown",
   "id": "5f52aac4-d1f2-47ab-bb46-bbb6ad5ff7ed",
   "metadata": {},
   "source": [
    "# Question 4"
   ]
  },
  {
   "cell_type": "markdown",
   "id": "923685e4-a307-4d21-a0de-dd8b9c29d6c1",
   "metadata": {},
   "source": [
    "Create a function that simulates the rolling of a die 50 times, records the outcomes, and returns the mean of the outcomes."
   ]
  },
  {
   "cell_type": "code",
   "execution_count": 3,
   "id": "9df79742-dfc3-49e1-88dd-dd89c57ed2a0",
   "metadata": {},
   "outputs": [],
   "source": [
    "def get_mean_die_roll(num_rolls):\n",
    "    roll_outcomes = np.random.randint(1, 7, size=num_rolls)\n",
    "    return np.mean(roll_outcomes)"
   ]
  },
  {
   "cell_type": "code",
   "execution_count": 6,
   "id": "528ffea7-aa67-4dcb-9de7-996680528d13",
   "metadata": {},
   "outputs": [
    {
     "data": {
      "text/plain": [
       "3.4965"
      ]
     },
     "execution_count": 6,
     "metadata": {},
     "output_type": "execute_result"
    }
   ],
   "source": [
    "# Experiment: roll a 6-sided fair die\n",
    "# Trial: a performance of the experiement\n",
    "# Observation: the result from the trial\n",
    "# Sample: a set of trials whose observations' statistics can then be computed to deduce properties of the population from which the samples were drawn\n",
    "# Law of large numbers: as you increase the size of the sample (ie, the number of times the die is rolled), the statistics computed from the sample \n",
    "#      will get closer to the statistics of the underlying population from which the samples are drawn\"\n",
    "res = get_mean_die_roll(10000)\n",
    "res"
   ]
  },
  {
   "cell_type": "markdown",
   "id": "d44bd726-41ab-43b9-8384-6d4da9dd2f64",
   "metadata": {},
   "source": [
    "# Question 5"
   ]
  },
  {
   "cell_type": "markdown",
   "id": "6556ff91-6c41-448d-bd56-31813404ef9b",
   "metadata": {},
   "source": [
    "Create a function that invokes get_mean_die_roll(50) 1000 times and returns a list of the means."
   ]
  },
  {
   "cell_type": "markdown",
   "id": "07963617-acbc-49b9-b288-2c8f46ae8c78",
   "metadata": {},
   "source": [
    "Learn more about how to [make computations efficient](https://jakevdp.github.io/PythonDataScienceHandbook/02.03-computation-on-arrays-ufuncs.html) with Numpy's Universal functions (UFunc)."
   ]
  },
  {
   "cell_type": "code",
   "execution_count": null,
   "id": "fb56cced-2eb7-479e-8617-fc53e34b9470",
   "metadata": {},
   "outputs": [],
   "source": [
    "def get_distribution_mean(a):\n",
    "    return get_mean_die_roll(50)\n",
    "get_distribution_means = np.vectorize(get_distribution_mean)"
   ]
  },
  {
   "cell_type": "markdown",
   "id": "1366aee1-790e-4b39-b657-f31fab833dc0",
   "metadata": {},
   "source": [
    "# Question 6"
   ]
  },
  {
   "cell_type": "markdown",
   "id": "6882faa9-b672-4696-9759-945a6e8cafb5",
   "metadata": {},
   "source": [
    "Plot a histogram"
   ]
  },
  {
   "cell_type": "code",
   "execution_count": null,
   "id": "4a11e4ae-fd92-44cd-b89a-59153e13811f",
   "metadata": {},
   "outputs": [],
   "source": [
    "num_experiments = 100000\n",
    "array = np.empty((num_experiments,))\n",
    "means = get_distribution_means(array)\n",
    "\n",
    "sns.displot(means, bins=70)"
   ]
  },
  {
   "cell_type": "code",
   "execution_count": null,
   "id": "827c7302-dd52-4da0-b419-53ee01e972c7",
   "metadata": {},
   "outputs": [],
   "source": []
  }
 ],
 "metadata": {
  "kernelspec": {
   "display_name": "Python 3 (ipykernel)",
   "language": "python",
   "name": "python3"
  },
  "language_info": {
   "codemirror_mode": {
    "name": "ipython",
    "version": 3
   },
   "file_extension": ".py",
   "mimetype": "text/x-python",
   "name": "python",
   "nbconvert_exporter": "python",
   "pygments_lexer": "ipython3",
   "version": "3.9.7"
  }
 },
 "nbformat": 4,
 "nbformat_minor": 5
}
