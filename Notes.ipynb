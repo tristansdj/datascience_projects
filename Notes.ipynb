{
 "cells": [
  {
   "cell_type": "markdown",
   "id": "d3659480-267f-4b06-bfca-7b8c4d372191",
   "metadata": {},
   "source": [
    "Data preparation\n",
    "1. Select data\n",
    "    - what data is available?\n",
    "    - what data do I not need?\n",
    "    - what data I wish I had?\n",
    "    \n",
    "2. Preprocess data\n",
    "    - formatting: from a particular database format to another\n",
    "    - cleaning: do something with missing and misleading data\n",
    "    - sampling: subset of larget datasets for exploratory analyses\n",
    "    \n",
    "3. Transform data\n",
    "    - scale/normalize data\n",
    "    - attributes decomposition (eg, keeping the \"hour\" part of a date)\n",
    "    - attributes aggregation: group data together (eg, summing data together)"
   ]
  },
  {
   "cell_type": "code",
   "execution_count": null,
   "id": "0a0706d4-626e-4c85-a39f-62fbc2a6ebc0",
   "metadata": {},
   "outputs": [],
   "source": []
  }
 ],
 "metadata": {
  "kernelspec": {
   "display_name": "Python 3 (ipykernel)",
   "language": "python",
   "name": "python3"
  },
  "language_info": {
   "codemirror_mode": {
    "name": "ipython",
    "version": 3
   },
   "file_extension": ".py",
   "mimetype": "text/x-python",
   "name": "python",
   "nbconvert_exporter": "python",
   "pygments_lexer": "ipython3",
   "version": "3.9.7"
  }
 },
 "nbformat": 4,
 "nbformat_minor": 5
}
