{
 "cells": [
  {
   "cell_type": "code",
   "execution_count": 1,
   "id": "3af9ba80-9f9a-4076-a8bd-d9ea6600f271",
   "metadata": {},
   "outputs": [],
   "source": [
    "import json\n",
    "import numpy as np\n",
    "import pandas as pd"
   ]
  },
  {
   "cell_type": "markdown",
   "id": "bff2b3ae-1ebc-4020-b2b7-a4dadf04a1f3",
   "metadata": {},
   "source": [
    "# Hospital Shift Manager\n",
    "Building the backend of an hospital shift manager application.\n",
    "\n",
    "This assignment is taken from the DSGT Bootcamp assignment 6 in section 4.\n",
    "\n",
    "\"Hi. I hope you are doing well. My team would like to develop a hospital shift manager application. We have some frontend designers (ie: UI/UX people), but we need your help as a backend developer. To make our application work, we need you to help us work with our JSON data on the shifts. NOTE that data.json and example output.json files are just examples for sake of formatting. Don't rely on these to \"evaluate the correctness of your solution\". It is your responsibility to test your implementation on some test cases. Your submission should clearly identify your code specific to Task 1, Task 2, Task 3, Task 4\""
   ]
  },
  {
   "cell_type": "markdown",
   "id": "497436aa-afe2-4ff3-b30b-7ff594344806",
   "metadata": {},
   "source": [
    "## Task 1\n",
    "A worker is either a medic or intern. Per shift, a medic is paid USD305 while an intern is paid USD142. Build an endpoint that takes in a JSON file called data.json and produces a file called output.json that is formatted as the following."
   ]
  },
  {
   "cell_type": "code",
   "execution_count": 2,
   "id": "a6b5ce03-f5b3-414a-8254-6235104180ca",
   "metadata": {},
   "outputs": [
    {
     "data": {
      "text/plain": [
       "'{\"workers\": [{\"id\": 1, \"pay\": 915}, {\"id\": 2, \"pay\": 915}, {\"id\": 3, \"pay\": 284}, {\"id\": 4, \"pay\": 610}]}'"
      ]
     },
     "execution_count": 2,
     "metadata": {},
     "output_type": "execute_result"
    }
   ],
   "source": [
    "shift_rates = {\"medic\": 305, \"intern\": 142}\n",
    "\n",
    "def retrieve_personel_id_pay(json_file):\n",
    "    # Get the data in input.json (as a dictionary)\n",
    "    f = open(json_file)\n",
    "    data = json.load(f)\n",
    "    f.close()\n",
    "\n",
    "    # Convert data[\"workers\"] into a dataframe\n",
    "    df = pd.DataFrame(data[\"workers\"])\n",
    "    shifts = pd.DataFrame(data[\"shifts\"])\n",
    "    \n",
    "    # Add new \"Work dates\" and \"pay\" columns\n",
    "    df[\"Work dates\"] = np.nan\n",
    "    df[\"pay\"] = 0\n",
    "    \n",
    "    for index1, row1 in df.iterrows():\n",
    "        staff_id = row1[\"id\"]\n",
    "        for index2, row2 in shifts.iterrows():\n",
    "            if row2[\"user_id\"] == staff_id:\n",
    "                if df.isna().loc[index1, \"Work dates\"]:\n",
    "                    df.loc[index1, \"Work dates\"] = [row2[\"start_date\"]]\n",
    "                else:\n",
    "                    df.loc[index1, \"Work dates\"].append(row2[\"start_date\"])\n",
    "        df.loc[index1,\"pay\"] = shift_rates[row1[\"status\"]] * len(df.loc[index1, \"Work dates\"])\n",
    "        \n",
    "    # Filter the columns of interest\n",
    "    df = df[[\"id\", \"pay\"]]\n",
    "    \n",
    "    # Convert data back into a dictionary\n",
    "    output_dict = {}\n",
    "    output_dict[\"workers\"] = df.to_dict(\"records\")\n",
    "    \n",
    "    # Convert data back into a json file\n",
    "    with open(\"output.json\", \"w\") as f:\n",
    "        json.dump(output_dict, f)\n",
    "    \n",
    "    return json.dumps(output_dict)\n",
    "\n",
    "retrieve_personel_id_pay(\"input.json\")"
   ]
  },
  {
   "cell_type": "code",
   "execution_count": 3,
   "id": "c42950ae-c83a-458c-a0dc-498d20a628f3",
   "metadata": {},
   "outputs": [
    {
     "data": {
      "text/plain": [
       "'{\"workers\": [{\"id\": 1, \"pay\": 1220}, {\"id\": 2, \"pay\": 915}, {\"id\": 3, \"pay\": 426}, {\"id\": 4, \"pay\": 915}]}'"
      ]
     },
     "execution_count": 3,
     "metadata": {},
     "output_type": "execute_result"
    }
   ],
   "source": [
    "shift_rates = {\"medic\": 305, \"intern\": 142}\n",
    "multiple = {\"2017-1-1\": 2, \n",
    "           \"2017-1-2\": 1,\n",
    "           \"2017-1-3\": 1,\n",
    "           \"2017-1-4\": 1,\n",
    "           \"2017-1-5\": 1,\n",
    "           \"2017-1-6\": 1,\n",
    "           \"2017-1-7\": 2,\n",
    "           \"2017-1-8\": 2,\n",
    "           \"2017-1-9\": 1,\n",
    "           \"2017-1-10\": 1,}\n",
    "\n",
    "def retrieve_personel_id_pay2(json_file):\n",
    "    # Get the data in input.json (as a dictionary)\n",
    "    f = open(json_file)\n",
    "    data = json.load(f)\n",
    "    f.close()\n",
    "\n",
    "    # Convert data[\"workers\"] into a dataframe\n",
    "    df = pd.DataFrame(data[\"workers\"])\n",
    "    shifts = pd.DataFrame(data[\"shifts\"])\n",
    "    \n",
    "    # Add new \"Work dates\" and \"pay\" columns\n",
    "    df[\"Work dates\"] = np.nan\n",
    "    df[\"pay\"] = 0\n",
    "    \n",
    "    for index1, row1 in df.iterrows():\n",
    "        staff_id = row1[\"id\"]\n",
    "        for index2, row2 in shifts.iterrows():\n",
    "            if row2[\"user_id\"] == staff_id:\n",
    "                if df.isna().loc[index1, \"Work dates\"]:\n",
    "                    df.loc[index1, \"Work dates\"] = [row2[\"start_date\"]]\n",
    "                else:\n",
    "                    df.loc[index1, \"Work dates\"].append(row2[\"start_date\"])\n",
    "        pay_per_shift = [shift_rates[row1[\"status\"]] * multiple[df.loc[index1, \"Work dates\"][i]] for i in range(len(df.loc[index1, \"Work dates\"]))]\n",
    "        df.loc[index1,\"pay\"] = sum(pay_per_shift)\n",
    "        \n",
    "    # Filter the columns of interest\n",
    "    df = df[[\"id\", \"pay\"]]\n",
    "    \n",
    "    # Convert data back into a dictionary\n",
    "    output_dict = {}\n",
    "    output_dict[\"workers\"] = df.to_dict(\"records\")\n",
    "    \n",
    "    # Convert data back into a json file\n",
    "    with open(\"output2.json\", \"w\") as f:\n",
    "        json.dump(output_dict, f)\n",
    "    \n",
    "    return json.dumps(output_dict)\n",
    "\n",
    "retrieve_personel_id_pay2(\"input.json\")"
   ]
  },
  {
   "cell_type": "markdown",
   "id": "a6b9774a-2596-41b2-873f-0332595bf4f9",
   "metadata": {},
   "source": [
    "## Task 3\n",
    "Our hospital shift manager model is to price our service 5% of each shift. In addition to that we also help hospitals to fill in unassigned shifts with interim workers. An interim is paid USD543 per shift. We also take a fixed fee of USD90 on each shift for which we provided an interim worker.\n",
    "\n",
    "Adapt the price computation to take these new rules into account and to calculate our commission. Look in data_interim.json for example input. Expected output can be found in output_interim.json"
   ]
  },
  {
   "cell_type": "code",
   "execution_count": 14,
   "id": "109168d4-3d23-448f-a369-9923f5b86acd",
   "metadata": {},
   "outputs": [
    {
     "name": "stdout",
     "output_type": "stream",
     "text": [
      "   id first_name   status\n",
      "0   1      Julie    medic\n",
      "1   2       Marc    medic\n",
      "2   3    Antoine   intern\n",
      "3   4     Emilie    medic\n",
      "4   5        Lea  interim\n",
      "5   6        Bob   intern\n",
      "   id   pay\n",
      "0   1   610\n",
      "1   2   915\n",
      "2   3   142\n",
      "3   4   915\n",
      "4   5  1629\n",
      "5   6   142\n"
     ]
    },
    {
     "data": {
      "text/plain": [
       "'{\"workers\": [{\"id\": 1, \"pay\": 610}, {\"id\": 2, \"pay\": 915}, {\"id\": 3, \"pay\": 142}, {\"id\": 4, \"pay\": 915}, {\"id\": 5, \"pay\": 1629}, {\"id\": 6, \"pay\": 142}], \"commission\": {\"pdg_fee\": 487.65, \"interim_shifts\": 3}}'"
      ]
     },
     "execution_count": 14,
     "metadata": {},
     "output_type": "execute_result"
    }
   ],
   "source": [
    "shift_rates = {\"medic\": 305, \"intern\": 142, \"interim\": 543}\n",
    "multiple = {\"2017-1-1\": 2, \n",
    "           \"2017-1-2\": 1,\n",
    "           \"2017-1-3\": 1,\n",
    "           \"2017-1-4\": 1,\n",
    "           \"2017-1-5\": 1,\n",
    "           \"2017-1-6\": 1,\n",
    "           \"2017-1-7\": 2,\n",
    "           \"2017-1-8\": 2,\n",
    "           \"2017-1-9\": 1,\n",
    "           \"2017-1-10\": 1,\n",
    "           \"2017-1-11\": 1}\n",
    "\n",
    "def retrieve_personel_id_pay3(json_file):\n",
    "    # Get the data in input.json (as a dictionary)\n",
    "    f = open(json_file)\n",
    "    data = json.load(f)\n",
    "    f.close()\n",
    "\n",
    "    # Convert data[\"workers\"] into a dataframe\n",
    "    df = pd.DataFrame(data[\"workers\"])\n",
    "    shifts = pd.DataFrame(data[\"shifts\"])\n",
    "    print(df)\n",
    "    \n",
    "    # Add new \"Work dates\" and \"pay\" columns\n",
    "    df[\"Work dates\"] = np.nan\n",
    "    df[\"pay\"] = 0\n",
    "    commission = 0\n",
    "    interim_shifts = 0\n",
    "    \n",
    "    for index1, row1 in df.iterrows():\n",
    "        staff_id = row1[\"id\"]\n",
    "        for index2, row2 in shifts.iterrows():\n",
    "            if row2[\"user_id\"] == staff_id:\n",
    "                if df.isna().loc[index1, \"Work dates\"]:\n",
    "                    df.loc[index1, \"Work dates\"] = [row2[\"start_date\"]]\n",
    "                else:\n",
    "                    df.loc[index1, \"Work dates\"].append(row2[\"start_date\"])\n",
    "        if row1[\"status\"] == \"interim\":\n",
    "            df.loc[index1,\"pay\"] = shift_rates[row1[\"status\"]] * len(df.loc[index1, \"Work dates\"])\n",
    "            commission += 90 * len(df.loc[index1, \"Work dates\"])\n",
    "            interim_shifts += len(df.loc[index1, \"Work dates\"])\n",
    "        else:\n",
    "            pay_per_shift = [shift_rates[row1[\"status\"]] * multiple[df.loc[index1, \"Work dates\"][i]] for i in range(len(df.loc[index1, \"Work dates\"]))]\n",
    "            df.loc[index1,\"pay\"] = sum(pay_per_shift)\n",
    "        \n",
    "    # Filter the columns of interest\n",
    "    df = df[[\"id\", \"pay\"]]\n",
    "    \n",
    "    print(df)\n",
    "    \n",
    "    # Finalize commission calculation\n",
    "    commission += df[\"pay\"].sum()*0.05\n",
    "    \n",
    "    # Convert data back into a dictionary\n",
    "    output_dict = {}\n",
    "    output_dict[\"workers\"] = df.to_dict(\"records\")\n",
    "    output_dict[\"commission\"] = {\"pdg_fee\": commission, \n",
    "                                 \"interim_shifts\": interim_shifts}\n",
    "    \n",
    "    # Convert data back into a json file\n",
    "    with open(\"output3.json\", \"w\") as f:\n",
    "        json.dump(output_dict, f)\n",
    "    \n",
    "    return json.dumps(output_dict)\n",
    "\n",
    "retrieve_personel_id_pay3(\"input2.json\")"
   ]
  },
  {
   "cell_type": "markdown",
   "id": "31c5f71a-9d44-41d8-af79-078b19d3e282",
   "metadata": {},
   "source": [
    "## Task 4\n",
    "Our hospital coordinator would like to recognize the hardwork of each employee. They would like an automated way to identify the hardest working medic, intern, and interim. On the basis of \"total pay received\", construct a JSON file called hardworkers.json."
   ]
  },
  {
   "cell_type": "code",
   "execution_count": 36,
   "id": "143a39c7-c84d-48a7-9b6d-a2d2f90f6548",
   "metadata": {},
   "outputs": [
    {
     "data": {
      "text/plain": [
       "'{\"medic\": \"Emilie\", \"interim\": \"Lea\", \"intern\": \"Bob\"}'"
      ]
     },
     "execution_count": 36,
     "metadata": {},
     "output_type": "execute_result"
    }
   ],
   "source": [
    "shift_rates = {\"medic\": 305, \"intern\": 142, \"interim\": 543}\n",
    "multiple = {\"2017-1-1\": 2, \n",
    "           \"2017-1-2\": 1,\n",
    "           \"2017-1-3\": 1,\n",
    "           \"2017-1-4\": 1,\n",
    "           \"2017-1-5\": 1,\n",
    "           \"2017-1-6\": 1,\n",
    "           \"2017-1-7\": 2,\n",
    "           \"2017-1-8\": 2,\n",
    "           \"2017-1-9\": 1,\n",
    "           \"2017-1-10\": 1,\n",
    "           \"2017-1-11\": 1,\n",
    "           \"2017-1-12\": 1,\n",
    "           \"2017-1-13\": 1,\n",
    "           \"2017-1-14\": 2,\n",
    "           \"2017-1-15\": 2}\n",
    "\n",
    "def hardworkers(json_file):\n",
    "    # Get the data in input.json (as a dictionary)\n",
    "    f = open(json_file)\n",
    "    data = json.load(f)\n",
    "    f.close()\n",
    "\n",
    "    # Convert data[\"workers\"] into a dataframe\n",
    "    df = pd.DataFrame(data[\"workers\"])\n",
    "    shifts = pd.DataFrame(data[\"shifts\"])\n",
    "    \n",
    "    # Add new \"Work dates\" and \"pay\" columns\n",
    "    df[\"Work dates\"] = np.nan\n",
    "    df[\"pay\"] = 0\n",
    "    \n",
    "    for index1, row1 in df.iterrows():\n",
    "        staff_id = row1[\"id\"]\n",
    "        for index2, row2 in shifts.iterrows():\n",
    "            if row2[\"user_id\"] == staff_id:\n",
    "                if df.isna().loc[index1, \"Work dates\"]:\n",
    "                    df.loc[index1, \"Work dates\"] = [row2[\"start_date\"]]\n",
    "                else:\n",
    "                    df.loc[index1, \"Work dates\"].append(row2[\"start_date\"])\n",
    "        if row1[\"status\"] == \"interim\":\n",
    "            df.loc[index1,\"pay\"] = shift_rates[row1[\"status\"]] * len(df.loc[index1, \"Work dates\"])\n",
    "        else:\n",
    "            pay_per_shift = [shift_rates[row1[\"status\"]] * multiple[df.loc[index1, \"Work dates\"][i]] for i in range(len(df.loc[index1, \"Work dates\"]))]\n",
    "            df.loc[index1,\"pay\"] = sum(pay_per_shift)\n",
    "    \n",
    "    # Retrieve hardworkers per category\n",
    "    series = df.groupby([\"status\"])[\"pay\"].transform(max) == df[\"pay\"]\n",
    "    series = series[series == True]\n",
    "    hardworker_index = series.index\n",
    "    df = df.loc[hardworker_index].drop(columns=[\"id\", \"pay\", \"Work dates\"])\n",
    "    \n",
    "    # Convert data into a dictionary\n",
    "    df = df.set_index(\"status\")\n",
    "    output_dict = df.to_dict(\"index\")\n",
    "    output_dict = {key: output_dict[key][\"first_name\"] for key in output_dict.keys()}\n",
    "    \n",
    "    # Convert data back into a json file\n",
    "    with open(\"output3.json\", \"w\") as f:\n",
    "        json.dump(output_dict, f)\n",
    "    \n",
    "    return json.dumps(output_dict)\n",
    "\n",
    "hardworkers(\"input2.json\")"
   ]
  },
  {
   "cell_type": "code",
   "execution_count": null,
   "id": "addeb5db-5dd2-477c-b759-6e9462b83341",
   "metadata": {},
   "outputs": [],
   "source": []
  }
 ],
 "metadata": {
  "kernelspec": {
   "display_name": "Python 3 (ipykernel)",
   "language": "python",
   "name": "python3"
  },
  "language_info": {
   "codemirror_mode": {
    "name": "ipython",
    "version": 3
   },
   "file_extension": ".py",
   "mimetype": "text/x-python",
   "name": "python",
   "nbconvert_exporter": "python",
   "pygments_lexer": "ipython3",
   "version": "3.9.7"
  }
 },
 "nbformat": 4,
 "nbformat_minor": 5
}
