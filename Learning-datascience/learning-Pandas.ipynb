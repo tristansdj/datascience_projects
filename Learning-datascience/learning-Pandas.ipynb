{
 "cells": [
  {
   "cell_type": "markdown",
   "id": "ee5460fa-c266-4b40-8ddc-528b1cca888b",
   "metadata": {},
   "source": [
    "# Learning Pandas data structures\n",
    "[Pandas Tutorial: DataFrames in Python](https://www.datacamp.com/community/tutorials/pandas-tutorial-dataframe-python)\n",
    "- Pandas Series , DataFrame and Panel built on top of Numpy arrays.\n",
    "    - Series = indexed 1D Numpy arrays\n",
    "    - DataFrames = indexed 2D Numpy arrays\n",
    "    - Panels = indexed 3D Numpy arrays\n",
    "\n",
    "Indexes can be labeled -> Pandas objects are disctionary-based arrays"
   ]
  },
  {
   "cell_type": "code",
   "execution_count": 2,
   "id": "e658654a-16cd-44bd-8abd-d5bbeccfa2aa",
   "metadata": {
    "tags": []
   },
   "outputs": [],
   "source": [
    "import numpy as np\n",
    "import pandas as pd"
   ]
  },
  {
   "cell_type": "code",
   "execution_count": 2,
   "id": "8a7f04aa-fe0b-4904-8898-f7c7bcae1fc1",
   "metadata": {},
   "outputs": [
    {
     "name": "stdout",
     "output_type": "stream",
     "text": [
      "[(1, 1.) (1, 1.) (1, 1.)]\n",
      "[1 1 1]\n",
      "<class 'numpy.ndarray'>\n"
     ]
    }
   ],
   "source": [
    "# A sturctured array - manipulate data by named fields\n",
    "my_array = np.ones(3, dtype=[('foo', int), ('bar', float)])\n",
    "print(my_array)\n",
    "print(my_array[\"foo\"])\n",
    "print(type(my_array))"
   ]
  },
  {
   "cell_type": "code",
   "execution_count": 3,
   "id": "1aecf941-f187-4f1c-8e6c-a0065da1fb89",
   "metadata": {},
   "outputs": [
    {
     "name": "stdout",
     "output_type": "stream",
     "text": [
      "[(1, 1.) (1, 1.) (1, 1.)]\n",
      "[1 1 1]\n",
      "<class 'numpy.recarray'>\n"
     ]
    }
   ],
   "source": [
    "# A record array - access fields of structured arrays by attribute rather than by index\n",
    "my_array2 = my_array.view(np.recarray)\n",
    "print(my_array2)\n",
    "print(my_array2.foo)\n",
    "print(type(my_array2))"
   ]
  },
  {
   "cell_type": "code",
   "execution_count": 4,
   "id": "007b490b-6e45-4254-9772-38a56bc4cedf",
   "metadata": {},
   "outputs": [
    {
     "name": "stdout",
     "output_type": "stream",
     "text": [
      "[(1., 2) (3., 4)]\n",
      "[1. 3.]\n"
     ]
    }
   ],
   "source": [
    "# Another example\n",
    "x = np.array([(1, 2),(3,4)], dtype=[('a', float), ('b', np.int8)])\n",
    "print(x)\n",
    "print(x[\"a\"])"
   ]
  },
  {
   "cell_type": "markdown",
   "id": "e8dcfd39-0ca8-4396-bf07-ce764fe5531a",
   "metadata": {},
   "source": [
    "# 1. How to create Pandas DataFrames\n",
    "\n",
    "Build DataFrames from sratch or convert lists and numpy arrays to Pandas DataFrames."
   ]
  },
  {
   "cell_type": "markdown",
   "id": "3d472f74-4553-41c7-a9d5-3cc71123f693",
   "metadata": {},
   "source": [
    "## Convert an array into a DataFrame"
   ]
  },
  {
   "cell_type": "code",
   "execution_count": 5,
   "id": "00738308-3be6-44e1-b142-09e703d2c58c",
   "metadata": {},
   "outputs": [
    {
     "name": "stdout",
     "output_type": "stream",
     "text": [
      "     Col1 Col2\n",
      "Row1    1    2\n",
      "Row2    3    4\n"
     ]
    }
   ],
   "source": [
    "# First, build a ndarray from a nested list (array() is a fcn while ndarray is a type)\n",
    "data = np.array([['', 'Col1', 'Col2'],\n",
    "                 ['Row1', 1, 2], \n",
    "                 ['Row2', 3, 4]])\n",
    "\n",
    "# Then, convert the ndarray into a DataFrame\n",
    "# Note that rows are specified as \"index\"\n",
    "df = pd.DataFrame(data=data[1:,1:],\n",
    "                  index=data[1:,0],\n",
    "                  columns=data[0,1:])\n",
    "\n",
    "print(df)"
   ]
  },
  {
   "cell_type": "markdown",
   "id": "821f877a-5043-4be6-b3c2-420cbd49ac28",
   "metadata": {},
   "source": [
    "## Convert a nested list into a DataFrame"
   ]
  },
  {
   "cell_type": "code",
   "execution_count": 6,
   "id": "6a30bf0b-39a0-4ced-b08b-ef8ad2e3bd64",
   "metadata": {},
   "outputs": [
    {
     "data": {
      "text/html": [
       "<div>\n",
       "<style scoped>\n",
       "    .dataframe tbody tr th:only-of-type {\n",
       "        vertical-align: middle;\n",
       "    }\n",
       "\n",
       "    .dataframe tbody tr th {\n",
       "        vertical-align: top;\n",
       "    }\n",
       "\n",
       "    .dataframe thead th {\n",
       "        text-align: right;\n",
       "    }\n",
       "</style>\n",
       "<table border=\"1\" class=\"dataframe\">\n",
       "  <thead>\n",
       "    <tr style=\"text-align: right;\">\n",
       "      <th></th>\n",
       "      <th>Class</th>\n",
       "      <th>Speed</th>\n",
       "    </tr>\n",
       "  </thead>\n",
       "  <tbody>\n",
       "    <tr>\n",
       "      <th>A</th>\n",
       "      <td>1</td>\n",
       "      <td>2</td>\n",
       "    </tr>\n",
       "    <tr>\n",
       "      <th>B</th>\n",
       "      <td>3</td>\n",
       "      <td>4</td>\n",
       "    </tr>\n",
       "    <tr>\n",
       "      <th>C</th>\n",
       "      <td>5</td>\n",
       "      <td>6</td>\n",
       "    </tr>\n",
       "  </tbody>\n",
       "</table>\n",
       "</div>"
      ],
      "text/plain": [
       "   Class  Speed\n",
       "A      1      2\n",
       "B      3      4\n",
       "C      5      6"
      ]
     },
     "execution_count": 6,
     "metadata": {},
     "output_type": "execute_result"
    }
   ],
   "source": [
    "my_list = [[1, 2],\n",
    "           [3, 4],\n",
    "           [5, 6]]\n",
    "df = pd.DataFrame(my_list, \n",
    "                  index=[\"A\", \"B\", \"C\"], \n",
    "                  columns=[\"Class\", \"Speed\"])\n",
    "df"
   ]
  },
  {
   "cell_type": "markdown",
   "id": "22a214f8-4d49-41a5-bc6d-954c25f12ee8",
   "metadata": {},
   "source": [
    "## Convert a dictionary into a DataFrame"
   ]
  },
  {
   "cell_type": "code",
   "execution_count": 7,
   "id": "5a8cbccc-b921-49c0-8047-06c23a17c6f3",
   "metadata": {
    "tags": []
   },
   "outputs": [
    {
     "data": {
      "text/html": [
       "<div>\n",
       "<style scoped>\n",
       "    .dataframe tbody tr th:only-of-type {\n",
       "        vertical-align: middle;\n",
       "    }\n",
       "\n",
       "    .dataframe tbody tr th {\n",
       "        vertical-align: top;\n",
       "    }\n",
       "\n",
       "    .dataframe thead th {\n",
       "        text-align: right;\n",
       "    }\n",
       "</style>\n",
       "<table border=\"1\" class=\"dataframe\">\n",
       "  <thead>\n",
       "    <tr style=\"text-align: right;\">\n",
       "      <th></th>\n",
       "      <th>A</th>\n",
       "      <th>B</th>\n",
       "      <th>C</th>\n",
       "    </tr>\n",
       "  </thead>\n",
       "  <tbody>\n",
       "    <tr>\n",
       "      <th>0</th>\n",
       "      <td>1</td>\n",
       "      <td>1</td>\n",
       "      <td>2</td>\n",
       "    </tr>\n",
       "    <tr>\n",
       "      <th>1</th>\n",
       "      <td>3</td>\n",
       "      <td>2</td>\n",
       "      <td>4</td>\n",
       "    </tr>\n",
       "  </tbody>\n",
       "</table>\n",
       "</div>"
      ],
      "text/plain": [
       "   A  B  C\n",
       "0  1  1  2\n",
       "1  3  2  4"
      ]
     },
     "execution_count": 7,
     "metadata": {},
     "output_type": "execute_result"
    }
   ],
   "source": [
    "# Build a dictionary\n",
    "my_dict = {\"A\": ['1', '3'], \"B\": ['1', '2'], \"C\": ['2', '4']}\n",
    "\n",
    "# Convert into a DataFrame\n",
    "# Note that the keys are used as columns while indexes are automatically set from 0\n",
    "df1 = pd.DataFrame(my_dict)\n",
    "df1"
   ]
  },
  {
   "cell_type": "markdown",
   "id": "b74d29d5-edf9-4c70-90a2-f2046a7fa520",
   "metadata": {},
   "source": [
    "## Adding several entries of the dataframe at once"
   ]
  },
  {
   "cell_type": "code",
   "execution_count": 6,
   "id": "0e49270b-a410-40e9-b45d-0229617c6d93",
   "metadata": {},
   "outputs": [
    {
     "data": {
      "text/html": [
       "<div>\n",
       "<style scoped>\n",
       "    .dataframe tbody tr th:only-of-type {\n",
       "        vertical-align: middle;\n",
       "    }\n",
       "\n",
       "    .dataframe tbody tr th {\n",
       "        vertical-align: top;\n",
       "    }\n",
       "\n",
       "    .dataframe thead th {\n",
       "        text-align: right;\n",
       "    }\n",
       "</style>\n",
       "<table border=\"1\" class=\"dataframe\">\n",
       "  <thead>\n",
       "    <tr style=\"text-align: right;\">\n",
       "      <th></th>\n",
       "      <th>Name</th>\n",
       "      <th>Age</th>\n",
       "      <th>Occupation</th>\n",
       "      <th>Degree</th>\n",
       "    </tr>\n",
       "  </thead>\n",
       "  <tbody>\n",
       "    <tr>\n",
       "      <th>0</th>\n",
       "      <td>Francis</td>\n",
       "      <td>35</td>\n",
       "      <td>waiter</td>\n",
       "      <td>NaN</td>\n",
       "    </tr>\n",
       "    <tr>\n",
       "      <th>1</th>\n",
       "      <td>Maria</td>\n",
       "      <td>17</td>\n",
       "      <td>lawyer</td>\n",
       "      <td>doctorate</td>\n",
       "    </tr>\n",
       "  </tbody>\n",
       "</table>\n",
       "</div>"
      ],
      "text/plain": [
       "      Name  Age Occupation     Degree\n",
       "0  Francis   35     waiter        NaN\n",
       "1    Maria   17     lawyer  doctorate"
      ]
     },
     "execution_count": 6,
     "metadata": {},
     "output_type": "execute_result"
    }
   ],
   "source": [
    "data = [{\"Name\": \"Francis\", \"Age\": 35, \"Occupation\": \"waiter\"},\n",
    "        {\"Name\": \"Maria\", \"Age\": 17, \"Occupation\": \"lawyer\", \"Degree\": \"doctorate\"}]\n",
    "\n",
    "df = pd.DataFrame(data)\n",
    "df.head()"
   ]
  },
  {
   "cell_type": "markdown",
   "id": "747b4492-0267-42b3-b43d-5fed6f266d69",
   "metadata": {},
   "source": [
    "## Take DataFrame as input to DataFrame"
   ]
  },
  {
   "cell_type": "code",
   "execution_count": 8,
   "id": "ff11c6ee-e27a-4654-9d5f-c4e1ade2c8b8",
   "metadata": {},
   "outputs": [
    {
     "name": "stdout",
     "output_type": "stream",
     "text": [
      "   A\n",
      "0  1\n",
      "1  2\n",
      "2  3\n",
      "3  4\n",
      "   A\n",
      "0  1\n",
      "1  2\n",
      "2  3\n",
      "3  4\n"
     ]
    }
   ],
   "source": [
    "my_df = pd.DataFrame(data=[1,2,3,4], index=range(0,4), columns=[\"A\"])\n",
    "print(my_df)\n",
    "\n",
    "df = pd.DataFrame(my_df)\n",
    "print(df)"
   ]
  },
  {
   "cell_type": "markdown",
   "id": "4628420f-7a3c-41d9-9a6f-567682f592e3",
   "metadata": {},
   "source": [
    "## Take a Series as input to a DataFrame"
   ]
  },
  {
   "cell_type": "code",
   "execution_count": 9,
   "id": "7e49e1ad-7d0c-42ce-9da1-4eb2ea2d3612",
   "metadata": {},
   "outputs": [
    {
     "name": "stdout",
     "output_type": "stream",
     "text": [
      "UK            London\n",
      "France         Paris\n",
      "US        Washington\n",
      "dtype: object\n",
      "                 0\n",
      "UK          London\n",
      "France       Paris\n",
      "US      Washington\n"
     ]
    }
   ],
   "source": [
    "my_dict = {\"UK\": \"London\", \"France\": \"Paris\", \"US\": \"Washington\"}\n",
    "my_series = pd.Series(my_dict) # The indexes are the keys of the dictionary\n",
    "print(my_series)\n",
    "\n",
    "df = pd.DataFrame(my_series) # the columns are indexed from 0 when not specified\n",
    "print(df)"
   ]
  },
  {
   "cell_type": "markdown",
   "id": "88ad5dc8-c881-4cb2-83f2-67dff85bc211",
   "metadata": {},
   "source": [
    "## Learn more about your dataframe"
   ]
  },
  {
   "cell_type": "code",
   "execution_count": 10,
   "id": "d8416709-e674-4a13-9ae8-c14ec2c92a41",
   "metadata": {},
   "outputs": [
    {
     "name": "stdout",
     "output_type": "stream",
     "text": [
      "(2, 3)\n",
      "2\n",
      "3\n",
      "2\n",
      "['A' 'B' 'C']\n"
     ]
    }
   ],
   "source": [
    "my_dict = {\"A\": ['1', '3'], \"B\": ['1', '2'], \"C\": ['2', '4']}\n",
    "df = pd.DataFrame(my_dict)\n",
    "print(df.shape)\n",
    "print(len(df.index))\n",
    "print(len(df.columns))\n",
    "print(df[\"A\"].count()) # WARNING: this excludes the NaN values\n",
    "print(df.columns.values)"
   ]
  },
  {
   "cell_type": "markdown",
   "id": "d4e5cfb5-ec19-4cbb-9844-f98f94bb6b98",
   "metadata": {},
   "source": [
    "# 2. How to select an index or column from a Pandas DataFrame"
   ]
  },
  {
   "cell_type": "markdown",
   "id": "c2c70608-fa37-40e1-99b7-445b50a9885d",
   "metadata": {},
   "source": [
    "## Access values of a dataframe"
   ]
  },
  {
   "cell_type": "code",
   "execution_count": 11,
   "id": "251cbf80-eec8-4a86-b497-dd4479d445e6",
   "metadata": {},
   "outputs": [
    {
     "name": "stdout",
     "output_type": "stream",
     "text": [
      "   A  B  C\n",
      "0  1  1  2\n",
      "1  3  2  4\n",
      "1\n",
      "1\n",
      "1\n",
      "1\n"
     ]
    }
   ],
   "source": [
    "my_dict = {\"A\": ['1', '3'], \"B\": ['1', '2'], \"C\": ['2', '4']}\n",
    "df = pd.DataFrame(my_dict)\n",
    "print(df)\n",
    "\n",
    " # row index, column index\n",
    "print(df.iloc[0,0])\n",
    "print(df.iat[0,0])\n",
    "\n",
    " # row index, column label\n",
    "print(df.loc[0,\"A\"])\n",
    "print(df.at[0,\"A\"])"
   ]
  },
  {
   "cell_type": "markdown",
   "id": "dde7ab68-cb07-47e6-a192-274f8b4b0ba0",
   "metadata": {},
   "source": [
    "## Selecting rows and columns"
   ]
  },
  {
   "cell_type": "code",
   "execution_count": 12,
   "id": "fc069d07-5ee9-4153-8cb1-c290995413e8",
   "metadata": {},
   "outputs": [
    {
     "name": "stdout",
     "output_type": "stream",
     "text": [
      "A    1\n",
      "B    1\n",
      "C    2\n",
      "Name: 0, dtype: object\n",
      "A    1\n",
      "B    1\n",
      "C    2\n",
      "Name: 0, dtype: object\n",
      "A    1\n",
      "B    1\n",
      "C    2\n",
      "Name: 0, dtype: object\n",
      "A    1\n",
      "B    1\n",
      "C    2\n",
      "Name: 0, dtype: object\n",
      "0    1\n",
      "1    3\n",
      "Name: A, dtype: object\n",
      "0    1\n",
      "1    3\n",
      "Name: A, dtype: object\n"
     ]
    }
   ],
   "source": [
    "# Select row indexed 0\n",
    "print(df.iloc[0,:]) # This a Series \n",
    "print(df.iloc[0])\n",
    "print(df.loc[0,:])\n",
    "print(df.loc[0])\n",
    "\n",
    "# Select columns\n",
    "print(df.iloc[:,0])\n",
    "print(df.loc[:,\"A\"])"
   ]
  },
  {
   "cell_type": "markdown",
   "id": "2513ccc1-79ee-40ef-bb6d-74695bf57303",
   "metadata": {},
   "source": [
    "# 3. Add an index, row or column to a DataFrame"
   ]
  },
  {
   "cell_type": "code",
   "execution_count": 13,
   "id": "4c8a26a3-a52a-4bb3-ad1a-4332c4b96572",
   "metadata": {},
   "outputs": [
    {
     "name": "stdout",
     "output_type": "stream",
     "text": [
      "   A  B  C\n",
      "0  1  1  2\n",
      "1  3  2  4\n",
      "   A  B\n",
      "C      \n",
      "2  1  1\n",
      "4  3  2\n"
     ]
    }
   ],
   "source": [
    "my_dict = {\"A\": ['1', '3'], \"B\": ['1', '2'], \"C\": ['2', '4']}\n",
    "df = pd.DataFrame(my_dict)\n",
    "print(df)\n",
    "\n",
    "# Set one of the columns as index for the other columns\n",
    "df.set_index(\"C\", inplace=True)\n",
    "print(df)"
   ]
  },
  {
   "cell_type": "markdown",
   "id": "4d2e0cfe-9b86-4543-97ad-b6f083f8b4eb",
   "metadata": {},
   "source": [
    "## Add rows to a DataFrame"
   ]
  },
  {
   "cell_type": "markdown",
   "id": "5fb3c99a-9100-4ee4-a065-06176403bf91",
   "metadata": {},
   "source": [
    ".loc() works on labels of the index (both row and column) whereas .iloc() works on the positions in the index. .ix() can take either an integer (position) or a label."
   ]
  },
  {
   "cell_type": "code",
   "execution_count": 14,
   "id": "413d8856-cbc6-42f4-9d67-fba1529279a3",
   "metadata": {},
   "outputs": [
    {
     "name": "stdout",
     "output_type": "stream",
     "text": [
      "   48  -2  Zoe\n",
      "2   1   2    3\n",
      "A   4   5    6\n",
      "4   7   8    9\n",
      "48     1\n",
      "-2     2\n",
      "Zoe    3\n",
      "Name: 2, dtype: int32\n",
      "48     7\n",
      "-2     8\n",
      "Zoe    9\n",
      "Name: 4, dtype: int32\n"
     ]
    }
   ],
   "source": [
    "df = pd.DataFrame(data=np.array([[1,2,3], [4,5,6], [7,8,9]]), \n",
    "                  index=[2,\"A\",4],\n",
    "                  columns=[48,-2,\"Zoe\"])\n",
    "print(df)\n",
    "\n",
    "print(df.loc[2]) # Will get first row (labeled 2, position 0)\n",
    "print(df.iloc[2]) # Will get third row (labeled 4, position 2))"
   ]
  },
  {
   "cell_type": "code",
   "execution_count": 15,
   "id": "7d02cd2f-392a-4c36-9771-3aef94e74756",
   "metadata": {},
   "outputs": [
    {
     "name": "stdout",
     "output_type": "stream",
     "text": [
      "       48  -2 Zoe\n",
      "2       1   2   3\n",
      "A       4   5   6\n",
      "4       7   8   9\n",
      "feast  12  34  dk\n"
     ]
    }
   ],
   "source": [
    "# Adding a row to a dataframe\n",
    "df.loc[\"feast\"] = [12, 34, \"dk\"]\n",
    "print(df)"
   ]
  },
  {
   "cell_type": "markdown",
   "id": "2cac0bdd-6a49-42de-86e9-532b9b9d8b8c",
   "metadata": {},
   "source": [
    "## Add a column to a dataframe"
   ]
  },
  {
   "cell_type": "code",
   "execution_count": 16,
   "id": "8a9583a6-20f8-4dcc-bf8d-9e975115335b",
   "metadata": {},
   "outputs": [
    {
     "name": "stdout",
     "output_type": "stream",
     "text": [
      "   A  B  C  D\n",
      "0  1  2  3  0\n",
      "1  4  5  6  1\n",
      "2  7  8  9  2\n",
      "   A  B  C  D    4\n",
      "0  1  2  3  0  100\n",
      "1  4  5  6  1   99\n",
      "2  7  8  9  2  299\n"
     ]
    }
   ],
   "source": [
    "df = pd.DataFrame(data=np.array([[1, 2, 3], [4, 5, 6], [7, 8, 9]]), columns=['A', 'B', 'C'])\n",
    "\n",
    "# Method 1: Use `.index`\n",
    "df['D'] = df.index # This places the \"index\" column in column \"D\"\n",
    "print(df)\n",
    "\n",
    "# Method 2: use loc to append a Series to the existing DataFrame\n",
    "# Remember: each column of a DataFrame is a Series\n",
    "my_series = pd.Series([100, 99, 299], index=df.index)\n",
    "df.loc[:,4] = my_series\n",
    "print(df)"
   ]
  },
  {
   "cell_type": "code",
   "execution_count": 17,
   "id": "6ca76018-1926-4605-a281-c621af0ce986",
   "metadata": {},
   "outputs": [
    {
     "name": "stdout",
     "output_type": "stream",
     "text": [
      "       A  B  C  D    4\n",
      "De     1  2  3  0  100\n",
      "la     4  5  6  1   99\n",
      "merde  7  8  9  2  299\n",
      "   index  A  B  C  D    4\n",
      "0     De  1  2  3  0  100\n",
      "1     la  4  5  6  1   99\n",
      "2  merde  7  8  9  2  299\n",
      "   A  B  C  D    4\n",
      "0  1  2  3  0  100\n",
      "1  4  5  6  1   99\n",
      "2  7  8  9  2  299\n",
      "   index  A  B  C  D    4\n",
      "0     De  1  2  3  0  100\n",
      "1     la  4  5  6  1   99\n",
      "2  merde  7  8  9  2  299\n"
     ]
    }
   ],
   "source": [
    "df.index = [\"De\", \"la\", \"merde\"]\n",
    "print(df)\n",
    "\n",
    "# Make the current index column an actual column of the dataframe\n",
    "print(df.reset_index()) \n",
    "\n",
    "# drop the index column\n",
    "print(df.reset_index(drop=True)) \n",
    "\n",
    "# the column labels may have several levels; if so, then level specifies on what level the label of the index column must be placed\n",
    "print(df.reset_index(level=0)) \n",
    "\n"
   ]
  },
  {
   "cell_type": "markdown",
   "id": "8562e39e-c6ce-4362-92d9-1c67a4e09fca",
   "metadata": {},
   "source": [
    "# 4. Delete indices, rows, columns from a dataframe"
   ]
  },
  {
   "cell_type": "markdown",
   "id": "991f314b-2a9c-4d99-b2cc-4d288033f921",
   "metadata": {},
   "source": [
    "## Remove an index from a dataframe"
   ]
  },
  {
   "cell_type": "code",
   "execution_count": 18,
   "id": "30e1809d-8aa3-4e31-8cdd-aa8fd2213bf2",
   "metadata": {},
   "outputs": [
    {
     "name": "stdout",
     "output_type": "stream",
     "text": [
      "      48  49  50\n",
      "2.5    1   2   3\n",
      "12.6   4   5   6\n",
      "4.8    7   8   9\n",
      "4.8   40  50  60\n",
      "2.5   23  35  37\n",
      "   index  48  49  50\n",
      "0    2.5   1   2   3\n",
      "1   12.6   4   5   6\n",
      "2    4.8   7   8   9\n",
      "3    4.8  40  50  60\n",
      "4    2.5  23  35  37\n",
      "   index  48  49  50\n",
      "1   12.6   4   5   6\n",
      "3    4.8  40  50  60\n",
      "4    2.5  23  35  37\n",
      "       48  49  50\n",
      "index            \n",
      "12.6    4   5   6\n",
      "4.8    40  50  60\n",
      "2.5    23  35  37\n"
     ]
    }
   ],
   "source": [
    "df = pd.DataFrame(data=np.array([[1, 2, 3], [4, 5, 6], [7, 8, 9], [40, 50, 60], [23, 35, 37]]), \n",
    "                  index= [2.5, 12.6, 4.8, 4.8, 2.5], \n",
    "                  columns=[48, 49, 50])\n",
    "print(df)\n",
    "\n",
    "df1 = df.reset_index()\n",
    "print(df1)\n",
    "\n",
    "df2 = df.reset_index().drop_duplicates(subset=\"index\", keep=\"last\")\n",
    "print(df2)\n",
    "\n",
    "df3 = df.reset_index().drop_duplicates(subset=\"index\", keep=\"last\").set_index(\"index\")\n",
    "print(df3)"
   ]
  },
  {
   "cell_type": "markdown",
   "id": "110240e5-2352-4aaf-8ed5-219fa88e5b84",
   "metadata": {},
   "source": [
    "## Delete a column from a dataframe"
   ]
  },
  {
   "cell_type": "code",
   "execution_count": 19,
   "id": "5e3f208f-3a2f-40b2-87ca-bcb4fb7a8676",
   "metadata": {},
   "outputs": [
    {
     "name": "stdout",
     "output_type": "stream",
     "text": [
      "   b  C\n",
      "2  4  7\n",
      "5  5  8\n",
      "8  6  9\n",
      "   b  C\n",
      "2  4  7\n",
      "5  5  8\n",
      "8  6  9\n",
      "   b  C\n",
      "2  4  7\n",
      "5  5  8\n",
      "8  6  9\n",
      "   C\n",
      "2  7\n",
      "5  8\n",
      "8  9\n",
      "<class 'pandas.core.frame.DataFrame'>\n"
     ]
    }
   ],
   "source": [
    "df = pd.DataFrame({\"A\": [1,2,3], 'b':[4,5,6], \"C\":[7,8,9]}, index=[2,5,8])\n",
    "\n",
    "df1 = df.drop(\"A\", axis=1, inplace=False)\n",
    "print(df1)\n",
    "\n",
    "# Equivalent\n",
    "df2 = df.drop(df.columns[0],axis=1)\n",
    "print(df2)\n",
    "\n",
    "# Equivalent\n",
    "df3 = df.drop(columns=[\"A\"])\n",
    "print(df3)\n",
    "\n",
    "# remove several columns at once\n",
    "df4 = df.drop(columns=[\"A\",\"b\"])\n",
    "print(df4)\n",
    "print(type(df4))"
   ]
  },
  {
   "cell_type": "markdown",
   "id": "240c48d3-fe83-4259-9b31-586e372a790b",
   "metadata": {},
   "source": [
    "## Removing a row from a dataframe"
   ]
  },
  {
   "cell_type": "code",
   "execution_count": 20,
   "id": "6f53d3f6-f093-4933-8213-62fd5d4982c0",
   "metadata": {},
   "outputs": [
    {
     "name": "stdout",
     "output_type": "stream",
     "text": [
      "   A  b  C\n",
      "3  1  4  7\n",
      "5  2  3  8\n",
      "8  2  6  9\n",
      "   A  b  C\n",
      "3  1  4  7\n",
      "8  2  6  9\n"
     ]
    }
   ],
   "source": [
    "df = pd.DataFrame({\"A\": [1,2,2], 'b':[4,3,6], \"C\":[7,8,9]}, index=[3,5,8])\n",
    "print(df)\n",
    "\n",
    "# Drop the duplicates in df\n",
    "print(df.drop_duplicates([\"A\"], keep=\"last\"))"
   ]
  },
  {
   "cell_type": "code",
   "execution_count": 21,
   "id": "8ea9cfb1-4da7-4acc-a941-1f747835bd5f",
   "metadata": {},
   "outputs": [
    {
     "name": "stdout",
     "output_type": "stream",
     "text": [
      "   A  b  C\n",
      "3  1  4  7\n",
      "5  2  3  8\n",
      "8  2  6  9\n",
      "[3, 5, 8]\n"
     ]
    },
    {
     "data": {
      "text/html": [
       "<div>\n",
       "<style scoped>\n",
       "    .dataframe tbody tr th:only-of-type {\n",
       "        vertical-align: middle;\n",
       "    }\n",
       "\n",
       "    .dataframe tbody tr th {\n",
       "        vertical-align: top;\n",
       "    }\n",
       "\n",
       "    .dataframe thead th {\n",
       "        text-align: right;\n",
       "    }\n",
       "</style>\n",
       "<table border=\"1\" class=\"dataframe\">\n",
       "  <thead>\n",
       "    <tr style=\"text-align: right;\">\n",
       "      <th></th>\n",
       "      <th>A</th>\n",
       "      <th>b</th>\n",
       "      <th>C</th>\n",
       "    </tr>\n",
       "  </thead>\n",
       "  <tbody>\n",
       "    <tr>\n",
       "      <th>3</th>\n",
       "      <td>1</td>\n",
       "      <td>4</td>\n",
       "      <td>7</td>\n",
       "    </tr>\n",
       "    <tr>\n",
       "      <th>8</th>\n",
       "      <td>2</td>\n",
       "      <td>6</td>\n",
       "      <td>9</td>\n",
       "    </tr>\n",
       "  </tbody>\n",
       "</table>\n",
       "</div>"
      ],
      "text/plain": [
       "   A  b  C\n",
       "3  1  4  7\n",
       "8  2  6  9"
      ]
     },
     "execution_count": 21,
     "metadata": {},
     "output_type": "execute_result"
    }
   ],
   "source": [
    "# drop an index at a certain position\n",
    "print(df)\n",
    "print(list(df.index))\n",
    "df.drop(df.index[1])"
   ]
  },
  {
   "cell_type": "code",
   "execution_count": 22,
   "id": "599cafca-0227-4aea-8780-d17cc81832d7",
   "metadata": {},
   "outputs": [
    {
     "data": {
      "text/html": [
       "<div>\n",
       "<style scoped>\n",
       "    .dataframe tbody tr th:only-of-type {\n",
       "        vertical-align: middle;\n",
       "    }\n",
       "\n",
       "    .dataframe tbody tr th {\n",
       "        vertical-align: top;\n",
       "    }\n",
       "\n",
       "    .dataframe thead th {\n",
       "        text-align: right;\n",
       "    }\n",
       "</style>\n",
       "<table border=\"1\" class=\"dataframe\">\n",
       "  <thead>\n",
       "    <tr style=\"text-align: right;\">\n",
       "      <th></th>\n",
       "      <th>A</th>\n",
       "      <th>b</th>\n",
       "      <th>C</th>\n",
       "    </tr>\n",
       "  </thead>\n",
       "  <tbody>\n",
       "    <tr>\n",
       "      <th>0</th>\n",
       "      <td>1</td>\n",
       "      <td>4</td>\n",
       "      <td>7</td>\n",
       "    </tr>\n",
       "    <tr>\n",
       "      <th>1</th>\n",
       "      <td>2</td>\n",
       "      <td>6</td>\n",
       "      <td>9</td>\n",
       "    </tr>\n",
       "  </tbody>\n",
       "</table>\n",
       "</div>"
      ],
      "text/plain": [
       "   A  b  C\n",
       "0  1  4  7\n",
       "1  2  6  9"
      ]
     },
     "execution_count": 22,
     "metadata": {},
     "output_type": "execute_result"
    }
   ],
   "source": [
    "# After dropping an index, we may want to reset it \n",
    "df.drop(df.index[1]).reset_index(drop=True)"
   ]
  },
  {
   "cell_type": "markdown",
   "id": "1d5799d3-4d60-4836-810b-4e816343147d",
   "metadata": {},
   "source": [
    "# 5. Rename the index or columns of dataframes"
   ]
  },
  {
   "cell_type": "code",
   "execution_count": 23,
   "id": "d485941c-acfc-4ef6-bcf5-78416586fcd6",
   "metadata": {},
   "outputs": [
    {
     "name": "stdout",
     "output_type": "stream",
     "text": [
      "   A   B   C\n",
      "a  1   4   2\n",
      "b  3  45  20\n",
      "c  2   3   7\n",
      "   D   E   F\n",
      "a  1   4   2\n",
      "b  3  45  20\n",
      "c  2   3   7\n"
     ]
    },
    {
     "data": {
      "text/html": [
       "<div>\n",
       "<style scoped>\n",
       "    .dataframe tbody tr th:only-of-type {\n",
       "        vertical-align: middle;\n",
       "    }\n",
       "\n",
       "    .dataframe tbody tr th {\n",
       "        vertical-align: top;\n",
       "    }\n",
       "\n",
       "    .dataframe thead th {\n",
       "        text-align: right;\n",
       "    }\n",
       "</style>\n",
       "<table border=\"1\" class=\"dataframe\">\n",
       "  <thead>\n",
       "    <tr style=\"text-align: right;\">\n",
       "      <th></th>\n",
       "      <th>D</th>\n",
       "      <th>E</th>\n",
       "      <th>F</th>\n",
       "    </tr>\n",
       "  </thead>\n",
       "  <tbody>\n",
       "    <tr>\n",
       "      <th>a</th>\n",
       "      <td>1</td>\n",
       "      <td>4</td>\n",
       "      <td>2</td>\n",
       "    </tr>\n",
       "    <tr>\n",
       "      <th>b</th>\n",
       "      <td>3</td>\n",
       "      <td>45</td>\n",
       "      <td>20</td>\n",
       "    </tr>\n",
       "    <tr>\n",
       "      <th>d</th>\n",
       "      <td>2</td>\n",
       "      <td>3</td>\n",
       "      <td>7</td>\n",
       "    </tr>\n",
       "  </tbody>\n",
       "</table>\n",
       "</div>"
      ],
      "text/plain": [
       "   D   E   F\n",
       "a  1   4   2\n",
       "b  3  45  20\n",
       "d  2   3   7"
      ]
     },
     "execution_count": 23,
     "metadata": {},
     "output_type": "execute_result"
    }
   ],
   "source": [
    "df = pd.DataFrame(data=[[1,4,2],\n",
    "                        [3,45,20],\n",
    "                        [2,3,7]],\n",
    "                  columns=[\"A\",\"B\",\"C\"],\n",
    "                  index=[\"a\",\"b\",\"c\"])\n",
    "print(df)\n",
    "\n",
    "new_columns = {\"A\": \"D\", \"B\":\"E\", \"C\":\"F\"}\n",
    "df.rename(columns=new_columns, inplace=True)\n",
    "print(df)\n",
    "\n",
    "new_indexes = {\"c\": \"d\"}\n",
    "df.rename(index=new_indexes)"
   ]
  },
  {
   "cell_type": "markdown",
   "id": "8140d439-e6eb-4fe3-acc7-b251fa5ca2a8",
   "metadata": {},
   "source": [
    "# 6. Format the data in a dataframe"
   ]
  },
  {
   "cell_type": "markdown",
   "id": "102e0836-f96a-4b51-9ed8-f835be84fdfb",
   "metadata": {},
   "source": [
    "## Replace all occurrences of a string in a dataframe"
   ]
  },
  {
   "cell_type": "code",
   "execution_count": 24,
   "id": "46490914-7cdb-41ef-8e12-044cebc79bbd",
   "metadata": {},
   "outputs": [
    {
     "name": "stdout",
     "output_type": "stream",
     "text": [
      "             Exam 1   Exam 2      Exam 3\n",
      "Ben           Awful     Poor     Perfect\n",
      "Mikael      Perfect     Poor  Acceptable\n",
      "Sandra   Acceptable       Ok        Poor\n",
      "Maria       Perfect  Perfect          Ok\n",
      "Brendon          Ok    Awful        Poor\n"
     ]
    },
    {
     "data": {
      "text/html": [
       "<div>\n",
       "<style scoped>\n",
       "    .dataframe tbody tr th:only-of-type {\n",
       "        vertical-align: middle;\n",
       "    }\n",
       "\n",
       "    .dataframe tbody tr th {\n",
       "        vertical-align: top;\n",
       "    }\n",
       "\n",
       "    .dataframe thead th {\n",
       "        text-align: right;\n",
       "    }\n",
       "</style>\n",
       "<table border=\"1\" class=\"dataframe\">\n",
       "  <thead>\n",
       "    <tr style=\"text-align: right;\">\n",
       "      <th></th>\n",
       "      <th>Exam 1</th>\n",
       "      <th>Exam 2</th>\n",
       "      <th>Exam 3</th>\n",
       "    </tr>\n",
       "  </thead>\n",
       "  <tbody>\n",
       "    <tr>\n",
       "      <th>Ben</th>\n",
       "      <td>0</td>\n",
       "      <td>1</td>\n",
       "      <td>4</td>\n",
       "    </tr>\n",
       "    <tr>\n",
       "      <th>Mikael</th>\n",
       "      <td>4</td>\n",
       "      <td>1</td>\n",
       "      <td>3</td>\n",
       "    </tr>\n",
       "    <tr>\n",
       "      <th>Sandra</th>\n",
       "      <td>3</td>\n",
       "      <td>2</td>\n",
       "      <td>1</td>\n",
       "    </tr>\n",
       "    <tr>\n",
       "      <th>Maria</th>\n",
       "      <td>4</td>\n",
       "      <td>4</td>\n",
       "      <td>2</td>\n",
       "    </tr>\n",
       "    <tr>\n",
       "      <th>Brendon</th>\n",
       "      <td>2</td>\n",
       "      <td>0</td>\n",
       "      <td>1</td>\n",
       "    </tr>\n",
       "  </tbody>\n",
       "</table>\n",
       "</div>"
      ],
      "text/plain": [
       "         Exam 1  Exam 2  Exam 3\n",
       "Ben           0       1       4\n",
       "Mikael        4       1       3\n",
       "Sandra        3       2       1\n",
       "Maria         4       4       2\n",
       "Brendon       2       0       1"
      ]
     },
     "execution_count": 24,
     "metadata": {},
     "output_type": "execute_result"
    }
   ],
   "source": [
    "my_dict = {\"Exam 1\": [\"Awful\", \"Perfect\", \"Acceptable\", \"Perfect\", \"Ok\"],\n",
    "           \"Exam 2\": [\"Poor\", \"Poor\", \"Ok\", \"Perfect\", \"Awful\"],\n",
    "           \"Exam 3\": [\"Perfect\", \"Acceptable\", \"Poor\", \"Ok\", \"Poor\"]}\n",
    "\n",
    "df = pd.DataFrame(my_dict, index=[\"Ben\", \"Mikael\", \"Sandra\", \"Maria\", \"Brendon\"])\n",
    "print(df)\n",
    "\n",
    "# Replace the strings by numerical values\n",
    "df.replace([\"Awful\", \"Poor\", \"Ok\", \"Acceptable\", \"Perfect\"], [0, 1, 2, 3, 4], inplace=True)\n",
    "df"
   ]
  },
  {
   "cell_type": "code",
   "execution_count": 25,
   "id": "aba1ae72-51c7-48e2-8aff-18736a28b34d",
   "metadata": {},
   "outputs": [
    {
     "name": "stdout",
     "output_type": "stream",
     "text": [
      "  Class Text Result\n",
      "0     1    2    +3b\n",
      "1     4    5    -6B\n",
      "2     7    8    +9A\n"
     ]
    },
    {
     "data": {
      "text/html": [
       "<div>\n",
       "<style scoped>\n",
       "    .dataframe tbody tr th:only-of-type {\n",
       "        vertical-align: middle;\n",
       "    }\n",
       "\n",
       "    .dataframe tbody tr th {\n",
       "        vertical-align: top;\n",
       "    }\n",
       "\n",
       "    .dataframe thead th {\n",
       "        text-align: right;\n",
       "    }\n",
       "</style>\n",
       "<table border=\"1\" class=\"dataframe\">\n",
       "  <thead>\n",
       "    <tr style=\"text-align: right;\">\n",
       "      <th></th>\n",
       "      <th>Class</th>\n",
       "      <th>Text</th>\n",
       "      <th>Result</th>\n",
       "    </tr>\n",
       "  </thead>\n",
       "  <tbody>\n",
       "    <tr>\n",
       "      <th>0</th>\n",
       "      <td>1</td>\n",
       "      <td>2</td>\n",
       "      <td>3</td>\n",
       "    </tr>\n",
       "    <tr>\n",
       "      <th>1</th>\n",
       "      <td>4</td>\n",
       "      <td>5</td>\n",
       "      <td>6</td>\n",
       "    </tr>\n",
       "    <tr>\n",
       "      <th>2</th>\n",
       "      <td>7</td>\n",
       "      <td>8</td>\n",
       "      <td>9</td>\n",
       "    </tr>\n",
       "  </tbody>\n",
       "</table>\n",
       "</div>"
      ],
      "text/plain": [
       "  Class Text Result\n",
       "0     1    2      3\n",
       "1     4    5      6\n",
       "2     7    8      9"
      ]
     },
     "execution_count": 25,
     "metadata": {},
     "output_type": "execute_result"
    }
   ],
   "source": [
    "my_array = np.array([[1,2,\"+3b\"],\n",
    "                     [4,5,\"-6B\"],\n",
    "                     [7,8,\"+9A\"]])\n",
    "df = pd.DataFrame(my_array, columns=[\"Class\", \"Text\", \"Result\"])\n",
    "print(df)\n",
    "\n",
    "# Use the map function and remove unwanted parts of strings\n",
    "df[\"Result\"] = df[\"Result\"].map(lambda x: x.lstrip(\"+-\").rstrip(\"aAbBcC\"))\n",
    "df"
   ]
  },
  {
   "cell_type": "markdown",
   "id": "e820505e-f8b9-448d-aada-6ee848f356b2",
   "metadata": {},
   "source": [
    "## Splitting text ina column into multiple rows "
   ]
  },
  {
   "cell_type": "code",
   "execution_count": 26,
   "id": "04d333dd-431f-4721-b6a2-4c2e696d3d31",
   "metadata": {},
   "outputs": [
    {
     "data": {
      "text/html": [
       "<div>\n",
       "<style scoped>\n",
       "    .dataframe tbody tr th:only-of-type {\n",
       "        vertical-align: middle;\n",
       "    }\n",
       "\n",
       "    .dataframe tbody tr th {\n",
       "        vertical-align: top;\n",
       "    }\n",
       "\n",
       "    .dataframe thead th {\n",
       "        text-align: right;\n",
       "    }\n",
       "</style>\n",
       "<table border=\"1\" class=\"dataframe\">\n",
       "  <thead>\n",
       "    <tr style=\"text-align: right;\">\n",
       "      <th></th>\n",
       "      <th>Age</th>\n",
       "      <th>PlusOne</th>\n",
       "      <th>Ticket</th>\n",
       "    </tr>\n",
       "  </thead>\n",
       "  <tbody>\n",
       "    <tr>\n",
       "      <th>0</th>\n",
       "      <td>34</td>\n",
       "      <td>0</td>\n",
       "      <td>23:44:55</td>\n",
       "    </tr>\n",
       "    <tr>\n",
       "      <th>1</th>\n",
       "      <td>22</td>\n",
       "      <td>0</td>\n",
       "      <td>66:77:88</td>\n",
       "    </tr>\n",
       "    <tr>\n",
       "      <th>2</th>\n",
       "      <td>19</td>\n",
       "      <td>1</td>\n",
       "      <td>43:68:05 56:34:12</td>\n",
       "    </tr>\n",
       "  </tbody>\n",
       "</table>\n",
       "</div>"
      ],
      "text/plain": [
       "   Age  PlusOne             Ticket\n",
       "0   34        0           23:44:55\n",
       "1   22        0           66:77:88\n",
       "2   19        1  43:68:05 56:34:12"
      ]
     },
     "execution_count": 26,
     "metadata": {},
     "output_type": "execute_result"
    }
   ],
   "source": [
    "data_dict = {\"Age\": [34, 22, 19],\n",
    "             \"PlusOne\": [0, 0, 1],\n",
    "             \"Ticket\": [\"23:44:55\", \"66:77:88\", \"43:68:05 56:34:12\"]}\n",
    "df = pd.DataFrame(data_dict)\n",
    "df"
   ]
  },
  {
   "cell_type": "code",
   "execution_count": 27,
   "id": "6af67878-7cf6-4f93-8ade-712120a1de16",
   "metadata": {},
   "outputs": [
    {
     "name": "stdout",
     "output_type": "stream",
     "text": [
      "<class 'pandas.core.series.Series'>\n"
     ]
    },
    {
     "data": {
      "text/plain": [
       "0              [23:44:55]\n",
       "1              [66:77:88]\n",
       "2    [43:68:05, 56:34:12]\n",
       "Name: Ticket, dtype: object"
      ]
     },
     "execution_count": 27,
     "metadata": {},
     "output_type": "execute_result"
    }
   ],
   "source": [
    "# Split the two time records in the third row\n",
    "series = df[\"Ticket\"].str.split(\" \")\n",
    "print(type(series))\n",
    "series"
   ]
  },
  {
   "cell_type": "code",
   "execution_count": 28,
   "id": "f6334058-29f4-4850-a6a0-25877ce9c694",
   "metadata": {},
   "outputs": [
    {
     "name": "stdout",
     "output_type": "stream",
     "text": [
      "<class 'pandas.core.frame.DataFrame'>\n"
     ]
    },
    {
     "data": {
      "text/html": [
       "<div>\n",
       "<style scoped>\n",
       "    .dataframe tbody tr th:only-of-type {\n",
       "        vertical-align: middle;\n",
       "    }\n",
       "\n",
       "    .dataframe tbody tr th {\n",
       "        vertical-align: top;\n",
       "    }\n",
       "\n",
       "    .dataframe thead th {\n",
       "        text-align: right;\n",
       "    }\n",
       "</style>\n",
       "<table border=\"1\" class=\"dataframe\">\n",
       "  <thead>\n",
       "    <tr style=\"text-align: right;\">\n",
       "      <th></th>\n",
       "      <th>0</th>\n",
       "      <th>1</th>\n",
       "    </tr>\n",
       "  </thead>\n",
       "  <tbody>\n",
       "    <tr>\n",
       "      <th>0</th>\n",
       "      <td>23:44:55</td>\n",
       "      <td>NaN</td>\n",
       "    </tr>\n",
       "    <tr>\n",
       "      <th>1</th>\n",
       "      <td>66:77:88</td>\n",
       "      <td>NaN</td>\n",
       "    </tr>\n",
       "    <tr>\n",
       "      <th>2</th>\n",
       "      <td>43:68:05</td>\n",
       "      <td>56:34:12</td>\n",
       "    </tr>\n",
       "  </tbody>\n",
       "</table>\n",
       "</div>"
      ],
      "text/plain": [
       "          0         1\n",
       "0  23:44:55       NaN\n",
       "1  66:77:88       NaN\n",
       "2  43:68:05  56:34:12"
      ]
     },
     "execution_count": 28,
     "metadata": {},
     "output_type": "execute_result"
    }
   ],
   "source": [
    "# Create a second column\n",
    "series = df[\"Ticket\"].str.split(\" \").apply(pd.Series, 1)\n",
    "print(type(series))\n",
    "series"
   ]
  },
  {
   "cell_type": "code",
   "execution_count": 29,
   "id": "573ff3da-b9ac-41e7-8f1b-ba3110c51be8",
   "metadata": {},
   "outputs": [
    {
     "name": "stdout",
     "output_type": "stream",
     "text": [
      "<class 'pandas.core.series.Series'>\n"
     ]
    },
    {
     "data": {
      "text/plain": [
       "0  0    23:44:55\n",
       "1  0    66:77:88\n",
       "2  0    43:68:05\n",
       "   1    56:34:12\n",
       "dtype: object"
      ]
     },
     "execution_count": 29,
     "metadata": {},
     "output_type": "execute_result"
    }
   ],
   "source": [
    "# And stack the values\n",
    "series = df[\"Ticket\"].str.split(\" \").apply(pd.Series, 1).stack()\n",
    "print(type(series))\n",
    "series"
   ]
  },
  {
   "cell_type": "code",
   "execution_count": 30,
   "id": "4b7acaf6-91aa-4d8d-9399-c41512f81365",
   "metadata": {},
   "outputs": [
    {
     "name": "stdout",
     "output_type": "stream",
     "text": [
      "<class 'pandas.core.series.Series'>\n"
     ]
    },
    {
     "data": {
      "text/plain": [
       "0    23:44:55\n",
       "1    66:77:88\n",
       "2    43:68:05\n",
       "2    56:34:12\n",
       "dtype: object"
      ]
     },
     "execution_count": 30,
     "metadata": {},
     "output_type": "execute_result"
    }
   ],
   "source": [
    "# After stacking the values, the index has two levels\n",
    "# Drop the index level to line up with the Dataframe\n",
    "series.index = series.index.droplevel(-1)\n",
    "print(type(series))\n",
    "series"
   ]
  },
  {
   "cell_type": "code",
   "execution_count": 31,
   "id": "d0f7d7b7-f469-447f-bb21-76557d1ba6a4",
   "metadata": {},
   "outputs": [
    {
     "name": "stdout",
     "output_type": "stream",
     "text": [
      "          0\n",
      "0  23:44:55\n",
      "1  66:77:88\n",
      "2  43:68:05\n",
      "2  56:34:12\n",
      "   Age  PlusOne             Ticket\n",
      "0   34        0           23:44:55\n",
      "1   22        0           66:77:88\n",
      "2   19        1  43:68:05 56:34:12\n",
      "   Age  PlusOne\n",
      "0   34        0\n",
      "1   22        0\n",
      "2   19        1\n"
     ]
    },
    {
     "data": {
      "text/html": [
       "<div>\n",
       "<style scoped>\n",
       "    .dataframe tbody tr th:only-of-type {\n",
       "        vertical-align: middle;\n",
       "    }\n",
       "\n",
       "    .dataframe tbody tr th {\n",
       "        vertical-align: top;\n",
       "    }\n",
       "\n",
       "    .dataframe thead th {\n",
       "        text-align: right;\n",
       "    }\n",
       "</style>\n",
       "<table border=\"1\" class=\"dataframe\">\n",
       "  <thead>\n",
       "    <tr style=\"text-align: right;\">\n",
       "      <th></th>\n",
       "      <th>Age</th>\n",
       "      <th>PlusOne</th>\n",
       "      <th>Ticket</th>\n",
       "    </tr>\n",
       "  </thead>\n",
       "  <tbody>\n",
       "    <tr>\n",
       "      <th>0</th>\n",
       "      <td>34</td>\n",
       "      <td>0</td>\n",
       "      <td>23:44:55</td>\n",
       "    </tr>\n",
       "    <tr>\n",
       "      <th>1</th>\n",
       "      <td>22</td>\n",
       "      <td>0</td>\n",
       "      <td>66:77:88</td>\n",
       "    </tr>\n",
       "    <tr>\n",
       "      <th>2</th>\n",
       "      <td>19</td>\n",
       "      <td>1</td>\n",
       "      <td>43:68:05</td>\n",
       "    </tr>\n",
       "    <tr>\n",
       "      <th>2</th>\n",
       "      <td>19</td>\n",
       "      <td>1</td>\n",
       "      <td>56:34:12</td>\n",
       "    </tr>\n",
       "  </tbody>\n",
       "</table>\n",
       "</div>"
      ],
      "text/plain": [
       "   Age  PlusOne    Ticket\n",
       "0   34        0  23:44:55\n",
       "1   22        0  66:77:88\n",
       "2   19        1  43:68:05\n",
       "2   19        1  56:34:12"
      ]
     },
     "execution_count": 31,
     "metadata": {},
     "output_type": "execute_result"
    }
   ],
   "source": [
    "# Make the above series a dataframe \n",
    "ticket_df = pd.DataFrame(series)\n",
    "print(ticket_df)\n",
    "\n",
    "# Remove the ticket column from the original dataframe\n",
    "print(df)\n",
    "del df[\"Ticket\"]\n",
    "print(df)\n",
    "\n",
    "# Append the ticketdf dataframe to the df\n",
    "df = df.join(ticket_df)\n",
    "df.rename(columns={0: \"Ticket\"}, inplace=True)\n",
    "df"
   ]
  },
  {
   "cell_type": "markdown",
   "id": "b6540930-119f-4918-85d6-ffe483e728d4",
   "metadata": {},
   "source": [
    "## Applying a function to a pandas dataframe's columns or rows"
   ]
  },
  {
   "cell_type": "code",
   "execution_count": 32,
   "id": "eea24ca0-6e0c-43ab-9392-4609ceee170f",
   "metadata": {},
   "outputs": [
    {
     "data": {
      "text/html": [
       "<div>\n",
       "<style scoped>\n",
       "    .dataframe tbody tr th:only-of-type {\n",
       "        vertical-align: middle;\n",
       "    }\n",
       "\n",
       "    .dataframe tbody tr th {\n",
       "        vertical-align: top;\n",
       "    }\n",
       "\n",
       "    .dataframe thead th {\n",
       "        text-align: right;\n",
       "    }\n",
       "</style>\n",
       "<table border=\"1\" class=\"dataframe\">\n",
       "  <thead>\n",
       "    <tr style=\"text-align: right;\">\n",
       "      <th></th>\n",
       "      <th>C1</th>\n",
       "      <th>C2</th>\n",
       "    </tr>\n",
       "  </thead>\n",
       "  <tbody>\n",
       "    <tr>\n",
       "      <th>R1</th>\n",
       "      <td>1</td>\n",
       "      <td>2</td>\n",
       "    </tr>\n",
       "    <tr>\n",
       "      <th>R2</th>\n",
       "      <td>3</td>\n",
       "      <td>4</td>\n",
       "    </tr>\n",
       "    <tr>\n",
       "      <th>R3</th>\n",
       "      <td>5</td>\n",
       "      <td>6</td>\n",
       "    </tr>\n",
       "  </tbody>\n",
       "</table>\n",
       "</div>"
      ],
      "text/plain": [
       "    C1  C2\n",
       "R1   1   2\n",
       "R2   3   4\n",
       "R3   5   6"
      ]
     },
     "execution_count": 32,
     "metadata": {},
     "output_type": "execute_result"
    }
   ],
   "source": [
    "df = pd.DataFrame(data=[[1,2],\n",
    "                        [3,4],\n",
    "                        [5,6]],\n",
    "                  columns=[\"C1\", \"C2\"],\n",
    "                  index=[\"R1\", \"R2\", \"R3\"])\n",
    "df"
   ]
  },
  {
   "cell_type": "code",
   "execution_count": 33,
   "id": "4c07cdaa-1feb-4f03-9a96-63c6fb42fe05",
   "metadata": {},
   "outputs": [
    {
     "data": {
      "text/html": [
       "<div>\n",
       "<style scoped>\n",
       "    .dataframe tbody tr th:only-of-type {\n",
       "        vertical-align: middle;\n",
       "    }\n",
       "\n",
       "    .dataframe tbody tr th {\n",
       "        vertical-align: top;\n",
       "    }\n",
       "\n",
       "    .dataframe thead th {\n",
       "        text-align: right;\n",
       "    }\n",
       "</style>\n",
       "<table border=\"1\" class=\"dataframe\">\n",
       "  <thead>\n",
       "    <tr style=\"text-align: right;\">\n",
       "      <th></th>\n",
       "      <th>C1</th>\n",
       "      <th>C2</th>\n",
       "    </tr>\n",
       "  </thead>\n",
       "  <tbody>\n",
       "    <tr>\n",
       "      <th>R1</th>\n",
       "      <td>2</td>\n",
       "      <td>2</td>\n",
       "    </tr>\n",
       "    <tr>\n",
       "      <th>R2</th>\n",
       "      <td>6</td>\n",
       "      <td>4</td>\n",
       "    </tr>\n",
       "    <tr>\n",
       "      <th>R3</th>\n",
       "      <td>10</td>\n",
       "      <td>6</td>\n",
       "    </tr>\n",
       "  </tbody>\n",
       "</table>\n",
       "</div>"
      ],
      "text/plain": [
       "    C1  C2\n",
       "R1   2   2\n",
       "R2   6   4\n",
       "R3  10   6"
      ]
     },
     "execution_count": 33,
     "metadata": {},
     "output_type": "execute_result"
    }
   ],
   "source": [
    "# Double the values of a column\n",
    "doubler = lambda x: x*2\n",
    "df[\"C1\"] = df[\"C1\"].apply(doubler)\n",
    "df"
   ]
  },
  {
   "cell_type": "code",
   "execution_count": 34,
   "id": "3e27c0a7-23f0-41ca-be6d-86c4c9c2f09c",
   "metadata": {},
   "outputs": [
    {
     "data": {
      "text/html": [
       "<div>\n",
       "<style scoped>\n",
       "    .dataframe tbody tr th:only-of-type {\n",
       "        vertical-align: middle;\n",
       "    }\n",
       "\n",
       "    .dataframe tbody tr th {\n",
       "        vertical-align: top;\n",
       "    }\n",
       "\n",
       "    .dataframe thead th {\n",
       "        text-align: right;\n",
       "    }\n",
       "</style>\n",
       "<table border=\"1\" class=\"dataframe\">\n",
       "  <thead>\n",
       "    <tr style=\"text-align: right;\">\n",
       "      <th></th>\n",
       "      <th>C1</th>\n",
       "      <th>C2</th>\n",
       "    </tr>\n",
       "  </thead>\n",
       "  <tbody>\n",
       "    <tr>\n",
       "      <th>R1</th>\n",
       "      <td>4</td>\n",
       "      <td>4</td>\n",
       "    </tr>\n",
       "    <tr>\n",
       "      <th>R2</th>\n",
       "      <td>6</td>\n",
       "      <td>4</td>\n",
       "    </tr>\n",
       "    <tr>\n",
       "      <th>R3</th>\n",
       "      <td>10</td>\n",
       "      <td>6</td>\n",
       "    </tr>\n",
       "  </tbody>\n",
       "</table>\n",
       "</div>"
      ],
      "text/plain": [
       "    C1  C2\n",
       "R1   4   4\n",
       "R2   6   4\n",
       "R3  10   6"
      ]
     },
     "execution_count": 34,
     "metadata": {},
     "output_type": "execute_result"
    }
   ],
   "source": [
    "# Double the value of a row\n",
    "df.loc[\"R1\"] = df.loc[\"R1\"].apply(doubler)\n",
    "df"
   ]
  },
  {
   "cell_type": "code",
   "execution_count": 35,
   "id": "f775ac8a-9bf1-4826-8e16-3eb1ce956023",
   "metadata": {},
   "outputs": [
    {
     "data": {
      "text/html": [
       "<div>\n",
       "<style scoped>\n",
       "    .dataframe tbody tr th:only-of-type {\n",
       "        vertical-align: middle;\n",
       "    }\n",
       "\n",
       "    .dataframe tbody tr th {\n",
       "        vertical-align: top;\n",
       "    }\n",
       "\n",
       "    .dataframe thead th {\n",
       "        text-align: right;\n",
       "    }\n",
       "</style>\n",
       "<table border=\"1\" class=\"dataframe\">\n",
       "  <thead>\n",
       "    <tr style=\"text-align: right;\">\n",
       "      <th></th>\n",
       "      <th>C1</th>\n",
       "      <th>C2</th>\n",
       "    </tr>\n",
       "  </thead>\n",
       "  <tbody>\n",
       "    <tr>\n",
       "      <th>R1</th>\n",
       "      <td>8</td>\n",
       "      <td>8</td>\n",
       "    </tr>\n",
       "    <tr>\n",
       "      <th>R2</th>\n",
       "      <td>12</td>\n",
       "      <td>8</td>\n",
       "    </tr>\n",
       "    <tr>\n",
       "      <th>R3</th>\n",
       "      <td>20</td>\n",
       "      <td>12</td>\n",
       "    </tr>\n",
       "  </tbody>\n",
       "</table>\n",
       "</div>"
      ],
      "text/plain": [
       "    C1  C2\n",
       "R1   8   8\n",
       "R2  12   8\n",
       "R3  20  12"
      ]
     },
     "execution_count": 35,
     "metadata": {},
     "output_type": "execute_result"
    }
   ],
   "source": [
    "# Double the value of the entire dataframe\n",
    "df = df.applymap(doubler)\n",
    "df"
   ]
  },
  {
   "cell_type": "markdown",
   "id": "b6119ed9-1fe7-4fec-8aa0-9fb627448ff6",
   "metadata": {},
   "source": [
    "# 7. Create an Empty DataFrame\n",
    "The dataframe's shape is predefined but not its data."
   ]
  },
  {
   "cell_type": "code",
   "execution_count": 36,
   "id": "ce0c0f6e-c112-44c2-ba57-62ce17a2fc50",
   "metadata": {},
   "outputs": [
    {
     "data": {
      "text/html": [
       "<div>\n",
       "<style scoped>\n",
       "    .dataframe tbody tr th:only-of-type {\n",
       "        vertical-align: middle;\n",
       "    }\n",
       "\n",
       "    .dataframe tbody tr th {\n",
       "        vertical-align: top;\n",
       "    }\n",
       "\n",
       "    .dataframe thead th {\n",
       "        text-align: right;\n",
       "    }\n",
       "</style>\n",
       "<table border=\"1\" class=\"dataframe\">\n",
       "  <thead>\n",
       "    <tr style=\"text-align: right;\">\n",
       "      <th></th>\n",
       "      <th>A</th>\n",
       "    </tr>\n",
       "  </thead>\n",
       "  <tbody>\n",
       "    <tr>\n",
       "      <th>0</th>\n",
       "      <td>NaN</td>\n",
       "    </tr>\n",
       "    <tr>\n",
       "      <th>1</th>\n",
       "      <td>NaN</td>\n",
       "    </tr>\n",
       "    <tr>\n",
       "      <th>2</th>\n",
       "      <td>NaN</td>\n",
       "    </tr>\n",
       "    <tr>\n",
       "      <th>3</th>\n",
       "      <td>NaN</td>\n",
       "    </tr>\n",
       "  </tbody>\n",
       "</table>\n",
       "</div>"
      ],
      "text/plain": [
       "    A\n",
       "0 NaN\n",
       "1 NaN\n",
       "2 NaN\n",
       "3 NaN"
      ]
     },
     "execution_count": 36,
     "metadata": {},
     "output_type": "execute_result"
    }
   ],
   "source": [
    "# Prefill a dataframe with some value (any type)\n",
    "df = pd.DataFrame(np.nan, index=[0,1,2,3], columns=[\"A\"])\n",
    "df"
   ]
  },
  {
   "cell_type": "code",
   "execution_count": 37,
   "id": "8b00698d-386f-4826-b7f2-e927c67fcce6",
   "metadata": {},
   "outputs": [
    {
     "data": {
      "text/html": [
       "<div>\n",
       "<style scoped>\n",
       "    .dataframe tbody tr th:only-of-type {\n",
       "        vertical-align: middle;\n",
       "    }\n",
       "\n",
       "    .dataframe tbody tr th {\n",
       "        vertical-align: top;\n",
       "    }\n",
       "\n",
       "    .dataframe thead th {\n",
       "        text-align: right;\n",
       "    }\n",
       "</style>\n",
       "<table border=\"1\" class=\"dataframe\">\n",
       "  <thead>\n",
       "    <tr style=\"text-align: right;\">\n",
       "      <th></th>\n",
       "      <th>A</th>\n",
       "      <th>B</th>\n",
       "    </tr>\n",
       "  </thead>\n",
       "  <tbody>\n",
       "    <tr>\n",
       "      <th>0</th>\n",
       "      <td>NaN</td>\n",
       "      <td>NaN</td>\n",
       "    </tr>\n",
       "    <tr>\n",
       "      <th>1</th>\n",
       "      <td>NaN</td>\n",
       "      <td>NaN</td>\n",
       "    </tr>\n",
       "    <tr>\n",
       "      <th>2</th>\n",
       "      <td>NaN</td>\n",
       "      <td>NaN</td>\n",
       "    </tr>\n",
       "    <tr>\n",
       "      <th>3</th>\n",
       "      <td>NaN</td>\n",
       "      <td>NaN</td>\n",
       "    </tr>\n",
       "  </tbody>\n",
       "</table>\n",
       "</div>"
      ],
      "text/plain": [
       "    A   B\n",
       "0 NaN NaN\n",
       "1 NaN NaN\n",
       "2 NaN NaN\n",
       "3 NaN NaN"
      ]
     },
     "execution_count": 37,
     "metadata": {},
     "output_type": "execute_result"
    }
   ],
   "source": [
    "# Force the data in the dataframe to be aof a particular type\n",
    "df = pd.DataFrame(index=range(0,4),columns=[\"A\", \"B\"], dtype=\"float\")\n",
    "df"
   ]
  },
  {
   "cell_type": "markdown",
   "id": "343fcfb1-8103-4369-bd32-8636ba17dba4",
   "metadata": {},
   "source": [
    "# 8. does pandas recognize dates when importing data?\n",
    "Yes by doing <code>pd.read_csv(\"file.csv\", parse_dates=True)</code>."
   ]
  },
  {
   "cell_type": "markdown",
   "id": "fb9ac51e-2404-470d-a377-a16d5d53ed86",
   "metadata": {},
   "source": [
    "# 9. When, why, how to reshape a pandas dataframe?\n",
    "To make your data suitable to data analysis.\n",
    "3 ways to reshape a dataframe: pivoting, stacking/unstacking, melting"
   ]
  },
  {
   "cell_type": "markdown",
   "id": "205e9942-40ce-442b-a6fd-1a95d46b9de8",
   "metadata": {},
   "source": [
    "## Method 1: pivoting a dataframe"
   ]
  },
  {
   "cell_type": "code",
   "execution_count": 38,
   "id": "4afdf0d3-0ec6-4b07-a4f6-c7f86be5b23f",
   "metadata": {},
   "outputs": [
    {
     "data": {
      "text/html": [
       "<div>\n",
       "<style scoped>\n",
       "    .dataframe tbody tr th:only-of-type {\n",
       "        vertical-align: middle;\n",
       "    }\n",
       "\n",
       "    .dataframe tbody tr th {\n",
       "        vertical-align: top;\n",
       "    }\n",
       "\n",
       "    .dataframe thead th {\n",
       "        text-align: right;\n",
       "    }\n",
       "</style>\n",
       "<table border=\"1\" class=\"dataframe\">\n",
       "  <thead>\n",
       "    <tr style=\"text-align: right;\">\n",
       "      <th></th>\n",
       "      <th>category</th>\n",
       "      <th>store</th>\n",
       "      <th>price</th>\n",
       "      <th>testscore</th>\n",
       "    </tr>\n",
       "  </thead>\n",
       "  <tbody>\n",
       "    <tr>\n",
       "      <th>0</th>\n",
       "      <td>Cleaning</td>\n",
       "      <td>Walmart</td>\n",
       "      <td>11.42</td>\n",
       "      <td>4</td>\n",
       "    </tr>\n",
       "    <tr>\n",
       "      <th>1</th>\n",
       "      <td>Cleaning</td>\n",
       "      <td>Dia</td>\n",
       "      <td>23.50</td>\n",
       "      <td>3</td>\n",
       "    </tr>\n",
       "    <tr>\n",
       "      <th>2</th>\n",
       "      <td>Entertainment</td>\n",
       "      <td>Walmart</td>\n",
       "      <td>19.99</td>\n",
       "      <td>5</td>\n",
       "    </tr>\n",
       "    <tr>\n",
       "      <th>3</th>\n",
       "      <td>Entertainment</td>\n",
       "      <td>Fnac</td>\n",
       "      <td>15.95</td>\n",
       "      <td>7</td>\n",
       "    </tr>\n",
       "    <tr>\n",
       "      <th>4</th>\n",
       "      <td>Tech</td>\n",
       "      <td>Dia</td>\n",
       "      <td>55.75</td>\n",
       "      <td>5</td>\n",
       "    </tr>\n",
       "    <tr>\n",
       "      <th>5</th>\n",
       "      <td>Tech</td>\n",
       "      <td>Walmart</td>\n",
       "      <td>111.55</td>\n",
       "      <td>8</td>\n",
       "    </tr>\n",
       "  </tbody>\n",
       "</table>\n",
       "</div>"
      ],
      "text/plain": [
       "        category    store   price  testscore\n",
       "0       Cleaning  Walmart   11.42          4\n",
       "1       Cleaning      Dia   23.50          3\n",
       "2  Entertainment  Walmart   19.99          5\n",
       "3  Entertainment     Fnac   15.95          7\n",
       "4           Tech      Dia   55.75          5\n",
       "5           Tech  Walmart  111.55          8"
      ]
     },
     "execution_count": 38,
     "metadata": {},
     "output_type": "execute_result"
    }
   ],
   "source": [
    "# Create your DataFrame\n",
    "products = pd.DataFrame({'category': ['Cleaning', 'Cleaning', 'Entertainment', 'Entertainment', 'Tech', 'Tech'],\n",
    "        'store': ['Walmart', 'Dia', 'Walmart', 'Fnac', 'Dia','Walmart'],\n",
    "        'price':[11.42, 23.50, 19.99, 15.95, 55.75, 111.55],\n",
    "        'testscore': [4, 3, 5, 7, 5, 8]})\n",
    "\n",
    "products"
   ]
  },
  {
   "cell_type": "code",
   "execution_count": 39,
   "id": "da7093d5-c90f-4d88-911e-f71c10eb95d1",
   "metadata": {},
   "outputs": [
    {
     "data": {
      "text/html": [
       "<div>\n",
       "<style scoped>\n",
       "    .dataframe tbody tr th:only-of-type {\n",
       "        vertical-align: middle;\n",
       "    }\n",
       "\n",
       "    .dataframe tbody tr th {\n",
       "        vertical-align: top;\n",
       "    }\n",
       "\n",
       "    .dataframe thead th {\n",
       "        text-align: right;\n",
       "    }\n",
       "</style>\n",
       "<table border=\"1\" class=\"dataframe\">\n",
       "  <thead>\n",
       "    <tr style=\"text-align: right;\">\n",
       "      <th>store</th>\n",
       "      <th>Dia</th>\n",
       "      <th>Fnac</th>\n",
       "      <th>Walmart</th>\n",
       "    </tr>\n",
       "    <tr>\n",
       "      <th>category</th>\n",
       "      <th></th>\n",
       "      <th></th>\n",
       "      <th></th>\n",
       "    </tr>\n",
       "  </thead>\n",
       "  <tbody>\n",
       "    <tr>\n",
       "      <th>Cleaning</th>\n",
       "      <td>23.50</td>\n",
       "      <td>NaN</td>\n",
       "      <td>11.42</td>\n",
       "    </tr>\n",
       "    <tr>\n",
       "      <th>Entertainment</th>\n",
       "      <td>NaN</td>\n",
       "      <td>15.95</td>\n",
       "      <td>19.99</td>\n",
       "    </tr>\n",
       "    <tr>\n",
       "      <th>Tech</th>\n",
       "      <td>55.75</td>\n",
       "      <td>NaN</td>\n",
       "      <td>111.55</td>\n",
       "    </tr>\n",
       "  </tbody>\n",
       "</table>\n",
       "</div>"
      ],
      "text/plain": [
       "store            Dia   Fnac  Walmart\n",
       "category                            \n",
       "Cleaning       23.50    NaN    11.42\n",
       "Entertainment    NaN  15.95    19.99\n",
       "Tech           55.75    NaN   111.55"
      ]
     },
     "execution_count": 39,
     "metadata": {},
     "output_type": "execute_result"
    }
   ],
   "source": [
    "# Use `pivot()` to pivot the DataFrame\n",
    "pivot_products = products.pivot(index='category', columns='store', values='price')\n",
    "pivot_products"
   ]
  },
  {
   "cell_type": "code",
   "execution_count": 40,
   "id": "9f0fde16-ee30-4fc5-a23b-58b8cd2128b8",
   "metadata": {},
   "outputs": [
    {
     "data": {
      "text/html": [
       "<div>\n",
       "<style scoped>\n",
       "    .dataframe tbody tr th:only-of-type {\n",
       "        vertical-align: middle;\n",
       "    }\n",
       "\n",
       "    .dataframe tbody tr th {\n",
       "        vertical-align: top;\n",
       "    }\n",
       "\n",
       "    .dataframe thead tr th {\n",
       "        text-align: left;\n",
       "    }\n",
       "\n",
       "    .dataframe thead tr:last-of-type th {\n",
       "        text-align: right;\n",
       "    }\n",
       "</style>\n",
       "<table border=\"1\" class=\"dataframe\">\n",
       "  <thead>\n",
       "    <tr>\n",
       "      <th></th>\n",
       "      <th colspan=\"3\" halign=\"left\">price</th>\n",
       "      <th colspan=\"3\" halign=\"left\">testscore</th>\n",
       "    </tr>\n",
       "    <tr>\n",
       "      <th>store</th>\n",
       "      <th>Dia</th>\n",
       "      <th>Fnac</th>\n",
       "      <th>Walmart</th>\n",
       "      <th>Dia</th>\n",
       "      <th>Fnac</th>\n",
       "      <th>Walmart</th>\n",
       "    </tr>\n",
       "    <tr>\n",
       "      <th>category</th>\n",
       "      <th></th>\n",
       "      <th></th>\n",
       "      <th></th>\n",
       "      <th></th>\n",
       "      <th></th>\n",
       "      <th></th>\n",
       "    </tr>\n",
       "  </thead>\n",
       "  <tbody>\n",
       "    <tr>\n",
       "      <th>Cleaning</th>\n",
       "      <td>23.50</td>\n",
       "      <td>NaN</td>\n",
       "      <td>11.42</td>\n",
       "      <td>3.0</td>\n",
       "      <td>NaN</td>\n",
       "      <td>4.0</td>\n",
       "    </tr>\n",
       "    <tr>\n",
       "      <th>Entertainment</th>\n",
       "      <td>NaN</td>\n",
       "      <td>15.95</td>\n",
       "      <td>19.99</td>\n",
       "      <td>NaN</td>\n",
       "      <td>7.0</td>\n",
       "      <td>5.0</td>\n",
       "    </tr>\n",
       "    <tr>\n",
       "      <th>Tech</th>\n",
       "      <td>55.75</td>\n",
       "      <td>NaN</td>\n",
       "      <td>111.55</td>\n",
       "      <td>5.0</td>\n",
       "      <td>NaN</td>\n",
       "      <td>8.0</td>\n",
       "    </tr>\n",
       "  </tbody>\n",
       "</table>\n",
       "</div>"
      ],
      "text/plain": [
       "               price                testscore             \n",
       "store            Dia   Fnac Walmart       Dia Fnac Walmart\n",
       "category                                                  \n",
       "Cleaning       23.50    NaN   11.42       3.0  NaN     4.0\n",
       "Entertainment    NaN  15.95   19.99       NaN  7.0     5.0\n",
       "Tech           55.75    NaN  111.55       5.0  NaN     8.0"
      ]
     },
     "execution_count": 40,
     "metadata": {},
     "output_type": "execute_result"
    }
   ],
   "source": [
    "# Without specifying the \"values\" field\n",
    "pivot_products = products.pivot(index='category', columns='store')\n",
    "pivot_products\n",
    "# This creates a multilevel column index"
   ]
  },
  {
   "cell_type": "code",
   "execution_count": 41,
   "id": "f3ef230b-6e2b-4014-beea-4921886a81de",
   "metadata": {},
   "outputs": [
    {
     "data": {
      "text/html": [
       "<div>\n",
       "<style scoped>\n",
       "    .dataframe tbody tr th:only-of-type {\n",
       "        vertical-align: middle;\n",
       "    }\n",
       "\n",
       "    .dataframe tbody tr th {\n",
       "        vertical-align: top;\n",
       "    }\n",
       "\n",
       "    .dataframe thead th {\n",
       "        text-align: right;\n",
       "    }\n",
       "</style>\n",
       "<table border=\"1\" class=\"dataframe\">\n",
       "  <thead>\n",
       "    <tr style=\"text-align: right;\">\n",
       "      <th>exited</th>\n",
       "      <th>no</th>\n",
       "      <th>yes</th>\n",
       "    </tr>\n",
       "    <tr>\n",
       "      <th>geography</th>\n",
       "      <th></th>\n",
       "      <th></th>\n",
       "    </tr>\n",
       "  </thead>\n",
       "  <tbody>\n",
       "    <tr>\n",
       "      <th>France</th>\n",
       "      <td>699.0</td>\n",
       "      <td>560.5</td>\n",
       "    </tr>\n",
       "    <tr>\n",
       "      <th>Spain</th>\n",
       "      <td>729.0</td>\n",
       "      <td>NaN</td>\n",
       "    </tr>\n",
       "  </tbody>\n",
       "</table>\n",
       "</div>"
      ],
      "text/plain": [
       "exited        no    yes\n",
       "geography              \n",
       "France     699.0  560.5\n",
       "Spain      729.0    NaN"
      ]
     },
     "execution_count": 41,
     "metadata": {},
     "output_type": "execute_result"
    }
   ],
   "source": [
    "# Using pivot_table when the column used as an index has repeating entries\n",
    "data = [[\"Hargrave\", 619, \"France\", 42, \"yes\"],\n",
    "        [\"Hill\", 608, \"Spain\", 41, \"no\"],\n",
    "        [\"Onio\", 502, \"France\", np.nan, \"yes\"],\n",
    "        [\"Boni\", 699, \"France\", 39, \"no\"],\n",
    "        [\"Mitchell\", 850, \"Spain\", 43, \"no\"],\n",
    "        [\"Chu\", np.nan, \"Spain\", 44, \"yes\"]]\n",
    "\n",
    "df = pd.DataFrame(data=data, \n",
    "                  columns=[\"surname\", \"credit_score\", \"geography\", \"age\", \"exited\"])\n",
    "\n",
    "df_new = pd.pivot_table(df, index=[\"geography\"], columns=[\"exited\"], values=\"credit_score\", aggfunc=np.mean)\n",
    "df_new"
   ]
  },
  {
   "cell_type": "markdown",
   "id": "95bdb83e-46aa-4916-92e4-eb8f0518480b",
   "metadata": {},
   "source": [
    "## Method 2: stacking and unstacking\n",
    "Stacking a dataframe makes it taller. <br>\n",
    "The innermost column index becomes the inner most row index."
   ]
  },
  {
   "cell_type": "code",
   "execution_count": 42,
   "id": "6e1dd72a-ed4c-4780-9871-bc2d76f3511f",
   "metadata": {},
   "outputs": [
    {
     "data": {
      "text/html": [
       "<div>\n",
       "<style scoped>\n",
       "    .dataframe tbody tr th:only-of-type {\n",
       "        vertical-align: middle;\n",
       "    }\n",
       "\n",
       "    .dataframe tbody tr th {\n",
       "        vertical-align: top;\n",
       "    }\n",
       "\n",
       "    .dataframe thead th {\n",
       "        text-align: right;\n",
       "    }\n",
       "</style>\n",
       "<table border=\"1\" class=\"dataframe\">\n",
       "  <thead>\n",
       "    <tr style=\"text-align: right;\">\n",
       "      <th></th>\n",
       "      <th>Age</th>\n",
       "      <th>PlusOne</th>\n",
       "      <th>Ticket</th>\n",
       "    </tr>\n",
       "  </thead>\n",
       "  <tbody>\n",
       "    <tr>\n",
       "      <th>0</th>\n",
       "      <td>34</td>\n",
       "      <td>0</td>\n",
       "      <td>23:44:55</td>\n",
       "    </tr>\n",
       "    <tr>\n",
       "      <th>1</th>\n",
       "      <td>22</td>\n",
       "      <td>0</td>\n",
       "      <td>66:77:88</td>\n",
       "    </tr>\n",
       "    <tr>\n",
       "      <th>2</th>\n",
       "      <td>19</td>\n",
       "      <td>1</td>\n",
       "      <td>43:68:05 56:34:12</td>\n",
       "    </tr>\n",
       "  </tbody>\n",
       "</table>\n",
       "</div>"
      ],
      "text/plain": [
       "   Age  PlusOne             Ticket\n",
       "0   34        0           23:44:55\n",
       "1   22        0           66:77:88\n",
       "2   19        1  43:68:05 56:34:12"
      ]
     },
     "execution_count": 42,
     "metadata": {},
     "output_type": "execute_result"
    }
   ],
   "source": [
    "data_dict = {\"Age\": [34, 22, 19],\n",
    "             \"PlusOne\": [0, 0, 1],\n",
    "             \"Ticket\": [\"23:44:55\", \"66:77:88\", \"43:68:05 56:34:12\"]}\n",
    "df = pd.DataFrame(data_dict)\n",
    "df"
   ]
  },
  {
   "cell_type": "code",
   "execution_count": 43,
   "id": "222c126d-1119-4914-9337-53c223815d9a",
   "metadata": {},
   "outputs": [
    {
     "name": "stdout",
     "output_type": "stream",
     "text": [
      "<class 'pandas.core.series.Series'>\n"
     ]
    },
    {
     "data": {
      "text/plain": [
       "0  Age                       34\n",
       "   PlusOne                    0\n",
       "   Ticket              23:44:55\n",
       "1  Age                       22\n",
       "   PlusOne                    0\n",
       "   Ticket              66:77:88\n",
       "2  Age                       19\n",
       "   PlusOne                    1\n",
       "   Ticket     43:68:05 56:34:12\n",
       "dtype: object"
      ]
     },
     "execution_count": 43,
     "metadata": {},
     "output_type": "execute_result"
    }
   ],
   "source": [
    "# The innermost column index (0 here since there is a single level) \n",
    "# becomes the innermost row index (0)\n",
    "print(type(df.stack()))\n",
    "df.stack() # stacking results in a Series object"
   ]
  },
  {
   "cell_type": "code",
   "execution_count": 44,
   "id": "afe499df-22f1-4167-9b99-569d6e3bdb54",
   "metadata": {},
   "outputs": [
    {
     "data": {
      "text/html": [
       "<div>\n",
       "<style scoped>\n",
       "    .dataframe tbody tr th:only-of-type {\n",
       "        vertical-align: middle;\n",
       "    }\n",
       "\n",
       "    .dataframe tbody tr th {\n",
       "        vertical-align: top;\n",
       "    }\n",
       "\n",
       "    .dataframe thead th {\n",
       "        text-align: right;\n",
       "    }\n",
       "</style>\n",
       "<table border=\"1\" class=\"dataframe\">\n",
       "  <thead>\n",
       "    <tr style=\"text-align: right;\">\n",
       "      <th></th>\n",
       "      <th>Age</th>\n",
       "      <th>PlusOne</th>\n",
       "      <th>Ticket</th>\n",
       "    </tr>\n",
       "  </thead>\n",
       "  <tbody>\n",
       "    <tr>\n",
       "      <th>0</th>\n",
       "      <td>34</td>\n",
       "      <td>0</td>\n",
       "      <td>23:44:55</td>\n",
       "    </tr>\n",
       "    <tr>\n",
       "      <th>1</th>\n",
       "      <td>22</td>\n",
       "      <td>0</td>\n",
       "      <td>66:77:88</td>\n",
       "    </tr>\n",
       "    <tr>\n",
       "      <th>2</th>\n",
       "      <td>19</td>\n",
       "      <td>1</td>\n",
       "      <td>43:68:05 56:34:12</td>\n",
       "    </tr>\n",
       "  </tbody>\n",
       "</table>\n",
       "</div>"
      ],
      "text/plain": [
       "  Age PlusOne             Ticket\n",
       "0  34       0           23:44:55\n",
       "1  22       0           66:77:88\n",
       "2  19       1  43:68:05 56:34:12"
      ]
     },
     "execution_count": 44,
     "metadata": {},
     "output_type": "execute_result"
    }
   ],
   "source": [
    "pd.DataFrame(df.stack().unstack()) # results in a DataFrame object"
   ]
  },
  {
   "cell_type": "markdown",
   "id": "dfa8da44-2263-4419-aee6-e029294f55b6",
   "metadata": {},
   "source": [
    "## Method 3: Melting a dataframe with <code>melt()</code>\n",
    "Useful when the dataframe contains both \"identifier\" variables and \"measured\" variables. <br>\n",
    "The measured variables are unpivoted to the row axis. Initially along the width of the dataframe, they will then be placed along the height after melting."
   ]
  },
  {
   "cell_type": "code",
   "execution_count": 45,
   "id": "80a9593c-602c-43d0-b0b1-879fc0df4509",
   "metadata": {},
   "outputs": [
    {
     "data": {
      "text/html": [
       "<div>\n",
       "<style scoped>\n",
       "    .dataframe tbody tr th:only-of-type {\n",
       "        vertical-align: middle;\n",
       "    }\n",
       "\n",
       "    .dataframe tbody tr th {\n",
       "        vertical-align: top;\n",
       "    }\n",
       "\n",
       "    .dataframe thead th {\n",
       "        text-align: right;\n",
       "    }\n",
       "</style>\n",
       "<table border=\"1\" class=\"dataframe\">\n",
       "  <thead>\n",
       "    <tr style=\"text-align: right;\">\n",
       "      <th></th>\n",
       "      <th>FirstName</th>\n",
       "      <th>LastName</th>\n",
       "      <th>BloodType</th>\n",
       "      <th>Weight</th>\n",
       "    </tr>\n",
       "  </thead>\n",
       "  <tbody>\n",
       "    <tr>\n",
       "      <th>0</th>\n",
       "      <td>John</td>\n",
       "      <td>Doe</td>\n",
       "      <td>A-</td>\n",
       "      <td>90</td>\n",
       "    </tr>\n",
       "    <tr>\n",
       "      <th>1</th>\n",
       "      <td>Jane</td>\n",
       "      <td>Austen</td>\n",
       "      <td>B+</td>\n",
       "      <td>64</td>\n",
       "    </tr>\n",
       "  </tbody>\n",
       "</table>\n",
       "</div>"
      ],
      "text/plain": [
       "  FirstName LastName BloodType  Weight\n",
       "0      John      Doe        A-      90\n",
       "1      Jane   Austen        B+      64"
      ]
     },
     "execution_count": 45,
     "metadata": {},
     "output_type": "execute_result"
    }
   ],
   "source": [
    "people = pd.DataFrame({'FirstName' : ['John', 'Jane'],\n",
    "                       'LastName' : ['Doe', 'Austen'],\n",
    "                       'BloodType' : ['A-', 'B+'],\n",
    "                       'Weight' : [90, 64]})\n",
    "\n",
    "people\n"
   ]
  },
  {
   "cell_type": "code",
   "execution_count": 46,
   "id": "67e0c6e3-f4e4-4ee6-bd00-d6833358969d",
   "metadata": {},
   "outputs": [
    {
     "data": {
      "text/html": [
       "<div>\n",
       "<style scoped>\n",
       "    .dataframe tbody tr th:only-of-type {\n",
       "        vertical-align: middle;\n",
       "    }\n",
       "\n",
       "    .dataframe tbody tr th {\n",
       "        vertical-align: top;\n",
       "    }\n",
       "\n",
       "    .dataframe thead th {\n",
       "        text-align: right;\n",
       "    }\n",
       "</style>\n",
       "<table border=\"1\" class=\"dataframe\">\n",
       "  <thead>\n",
       "    <tr style=\"text-align: right;\">\n",
       "      <th></th>\n",
       "      <th>FirstName</th>\n",
       "      <th>LastName</th>\n",
       "      <th>measurements</th>\n",
       "      <th>value</th>\n",
       "    </tr>\n",
       "  </thead>\n",
       "  <tbody>\n",
       "    <tr>\n",
       "      <th>0</th>\n",
       "      <td>John</td>\n",
       "      <td>Doe</td>\n",
       "      <td>BloodType</td>\n",
       "      <td>A-</td>\n",
       "    </tr>\n",
       "    <tr>\n",
       "      <th>1</th>\n",
       "      <td>Jane</td>\n",
       "      <td>Austen</td>\n",
       "      <td>BloodType</td>\n",
       "      <td>B+</td>\n",
       "    </tr>\n",
       "    <tr>\n",
       "      <th>2</th>\n",
       "      <td>John</td>\n",
       "      <td>Doe</td>\n",
       "      <td>Weight</td>\n",
       "      <td>90</td>\n",
       "    </tr>\n",
       "    <tr>\n",
       "      <th>3</th>\n",
       "      <td>Jane</td>\n",
       "      <td>Austen</td>\n",
       "      <td>Weight</td>\n",
       "      <td>64</td>\n",
       "    </tr>\n",
       "  </tbody>\n",
       "</table>\n",
       "</div>"
      ],
      "text/plain": [
       "  FirstName LastName measurements value\n",
       "0      John      Doe    BloodType    A-\n",
       "1      Jane   Austen    BloodType    B+\n",
       "2      John      Doe       Weight    90\n",
       "3      Jane   Austen       Weight    64"
      ]
     },
     "execution_count": 46,
     "metadata": {},
     "output_type": "execute_result"
    }
   ],
   "source": [
    "melted_df = pd.melt(people, \n",
    "                    id_vars=['FirstName', 'LastName'], \n",
    "                    var_name='measurements')\n",
    "melted_df"
   ]
  },
  {
   "cell_type": "markdown",
   "id": "ee03606f-b78a-40f1-99f8-d2c38b0cf64b",
   "metadata": {},
   "source": [
    "# 10. Iterate over a dataframe\n",
    "## <code>for</code> loop with <code>iterrow()</code>."
   ]
  },
  {
   "cell_type": "code",
   "execution_count": 47,
   "id": "d752d36b-d18a-425e-971b-9e823efd2b8b",
   "metadata": {},
   "outputs": [
    {
     "name": "stdout",
     "output_type": "stream",
     "text": [
      "1 2\n",
      "4 5\n",
      "7 8\n",
      "0\n",
      "1\n",
      "2\n"
     ]
    }
   ],
   "source": [
    "df = pd.DataFrame(data=np.array([[1, 2, 3], [4, 5, 6], [7, 8, 9]]), columns=['A', 'B', 'C'])\n",
    "\n",
    "for index, row in df.iterrows() :\n",
    "    print(row['A'], row['B'])\n",
    "    \n",
    "for index, row in df.iterrows():\n",
    "    print(index)"
   ]
  },
  {
   "cell_type": "markdown",
   "id": "e8fe53ba-691d-4bb8-b742-bd9d1f5d4027",
   "metadata": {},
   "source": [
    "## <code>for</code> loop with <code>items()</code> or <code>iteritems()</code>."
   ]
  },
  {
   "cell_type": "code",
   "execution_count": 48,
   "id": "2f297ab1-99c6-4e03-ab2b-202239eaa5ff",
   "metadata": {},
   "outputs": [
    {
     "data": {
      "text/html": [
       "<div>\n",
       "<style scoped>\n",
       "    .dataframe tbody tr th:only-of-type {\n",
       "        vertical-align: middle;\n",
       "    }\n",
       "\n",
       "    .dataframe tbody tr th {\n",
       "        vertical-align: top;\n",
       "    }\n",
       "\n",
       "    .dataframe thead th {\n",
       "        text-align: right;\n",
       "    }\n",
       "</style>\n",
       "<table border=\"1\" class=\"dataframe\">\n",
       "  <thead>\n",
       "    <tr style=\"text-align: right;\">\n",
       "      <th></th>\n",
       "      <th>species</th>\n",
       "      <th>population</th>\n",
       "    </tr>\n",
       "  </thead>\n",
       "  <tbody>\n",
       "    <tr>\n",
       "      <th>panda</th>\n",
       "      <td>bear</td>\n",
       "      <td>1864</td>\n",
       "    </tr>\n",
       "    <tr>\n",
       "      <th>polar</th>\n",
       "      <td>bear</td>\n",
       "      <td>22000</td>\n",
       "    </tr>\n",
       "    <tr>\n",
       "      <th>koala</th>\n",
       "      <td>marsupial</td>\n",
       "      <td>80000</td>\n",
       "    </tr>\n",
       "  </tbody>\n",
       "</table>\n",
       "</div>"
      ],
      "text/plain": [
       "         species  population\n",
       "panda       bear        1864\n",
       "polar       bear       22000\n",
       "koala  marsupial       80000"
      ]
     },
     "execution_count": 48,
     "metadata": {},
     "output_type": "execute_result"
    }
   ],
   "source": [
    "df = pd.DataFrame({'species': ['bear', 'bear', 'marsupial'],\n",
    "                  'population': [1864, 22000, 80000]},\n",
    "                  index=['panda', 'polar', 'koala'])\n",
    "\n",
    "df"
   ]
  },
  {
   "cell_type": "code",
   "execution_count": 49,
   "id": "239ffbbb-b341-4e57-9a8e-bb58a07b12a0",
   "metadata": {},
   "outputs": [
    {
     "name": "stdout",
     "output_type": "stream",
     "text": [
      "species\n",
      "panda         bear\n",
      "polar         bear\n",
      "koala    marsupial\n",
      "Name: species, dtype: object\n",
      "population\n",
      "panda     1864\n",
      "polar    22000\n",
      "koala    80000\n",
      "Name: population, dtype: int64\n"
     ]
    }
   ],
   "source": [
    "for label, content in df.items():\n",
    "    print(label)\n",
    "    print(content)\n",
    "    # print(f'label: {label}')\n",
    "    # print(f'content: {content}')"
   ]
  },
  {
   "cell_type": "markdown",
   "id": "43c637c1-031d-490d-8b68-3612542d8d09",
   "metadata": {},
   "source": [
    "## 11. Write a dataframe to a file (csv or excel)"
   ]
  },
  {
   "cell_type": "code",
   "execution_count": 50,
   "id": "19b78f1d-2011-4656-8a61-0d656e404cec",
   "metadata": {},
   "outputs": [],
   "source": [
    "df = pd.DataFrame({'category': ['Cleaning', 'Cleaning', 'Entertainment', 'Entertainment', 'Tech', 'Tech'],\n",
    "        'store': ['Walmart', 'Dia', 'Walmart', 'Fnac', 'Dia','Walmart'],\n",
    "        'price':[11.42, 23.50, 19.99, 15.95, 55.75, 111.55],\n",
    "        'testscore': [4, 3, 5, 7, 5, 8]})\n",
    "\n",
    "# create a csv with \"tab\" delimitor\n",
    "df.to_csv(\"myDataFrame.csv\", sep=\"\\t\", encoding=\"utf-8\")\n",
    "\n",
    "# Write to excel format\n",
    "writer = pd.ExcelWriter(\"myDataFrame.xlsx\")\n",
    "df.to_excel(writer, \"DataFrame\")\n",
    "writer.save()"
   ]
  },
  {
   "cell_type": "code",
   "execution_count": null,
   "id": "020a92c5-5dcc-483d-b6c2-db8921f71653",
   "metadata": {},
   "outputs": [],
   "source": []
  }
 ],
 "metadata": {
  "kernelspec": {
   "display_name": "Python 3 (ipykernel)",
   "language": "python",
   "name": "python3"
  },
  "language_info": {
   "codemirror_mode": {
    "name": "ipython",
    "version": 3
   },
   "file_extension": ".py",
   "mimetype": "text/x-python",
   "name": "python",
   "nbconvert_exporter": "python",
   "pygments_lexer": "ipython3",
   "version": "3.9.7"
  }
 },
 "nbformat": 4,
 "nbformat_minor": 5
}
