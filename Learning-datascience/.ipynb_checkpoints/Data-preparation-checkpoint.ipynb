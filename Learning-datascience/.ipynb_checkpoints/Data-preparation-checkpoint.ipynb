{
 "cells": [
  {
   "cell_type": "markdown",
   "id": "c460d842-4985-42a2-ba1c-6c2a57823c43",
   "metadata": {},
   "source": [
    "# Data preparation\n",
    "References: DSGT Bootcamp on Udemy\n",
    "\n",
    "1. Select data\n",
    "    - what data is available?\n",
    "    - what data do I not need?\n",
    "    - what data I wish I had?\n",
    "    \n",
    "2. Preprocess data\n",
    "    - formatting: from a particular database format to another\n",
    "    - cleaning: do something with missing and misleading data\n",
    "    - sampling: subset of larget datasets for exploratory analyses\n",
    "    \n",
    "3. Transform data\n",
    "    - scale/normalize data\n",
    "    - attributes decomposition (eg, keeping the \"hour\" part of a date)\n",
    "    - attributes aggregation: group data together (eg, summing data together)"
   ]
  },
  {
   "cell_type": "markdown",
   "id": "3866bb3d-330c-49cc-9ea3-918c437592f8",
   "metadata": {},
   "source": [
    "## Why do we need to prepare and pre-process data?\n",
    "References: \n",
    "- [What is data preparation in a ML project?](https://machinelearningmastery.com/what-is-data-preparation-in-machine-learning/)\n",
    "\n",
    "Transformation of raw data into a form that is more suitable to modeling. Task specific to data in hand, algorithms used to model the data, computational resources, etc.\n",
    "\n",
    "Keep in mind: Data preparation is all about **exposing the unknown underlying structure of your dataset to ML algorithms**. It thus represents an important step in the task of a Data Scientist. ML algorithms then discover that structure.\n",
    "\n",
    "Why preprocess data?\n",
    "- Data must be numbers: categorical data must be encoded\n",
    "- ML algos may impose data to be in a certain format, eg, standardization/normalization\n",
    "- Correct statistical noise and errors in the data to avoid bias in the final model\n",
    "- Identify complex non-linear relationships in the data to better inform the selection of ML models to train\n",
    "\n",
    "How to preprocess data?\n",
    "- **Data cleaning**: identify and correct mistakes or errors in the data (eg, eliminate outliers)\n",
    "- **Feature selection**: what are the variables/features most relevant to the task at hand?\n",
    "- **Data transforms**: standardize/normalize data\n",
    "- **Feature engineering**: deriving new variables from available data\n",
    "- **Dimensionality reduction**: create compact projections of the data"
   ]
  },
  {
   "cell_type": "markdown",
   "id": "9916cba4-c348-4de8-a6c5-8aa971f62aff",
   "metadata": {},
   "source": [
    "## Data preparation techniques\n",
    "References: \n",
    "- [What is data preparation in a ML project?](https://machinelearningmastery.com/what-is-data-preparation-in-machine-learning/)\n",
    "\n",
    "There are many methods available for data preparation. It can be overwhelming.\n",
    "\n",
    "Example techniques (non-exhaustive):\n",
    "- **Summary statistics**: max, min, mean, standard deviation, correlation, etc. \n",
    "- **Visualization**: identify outliers, identify the type of probability distribution followed by the variables, pairwise plots to see if input variables are related to each other or not related to the target/output variables\n",
    "- **Statistical hypothesis tests**: identify the probability distributions followed by the input variables\n",
    "\n",
    "Keep in mind: the choice of data preparation techniques and how to transform the data depends heavily on the choice of the learning algorithms (which may come with their own requirements for the input data they need to learn from) as well as the performance metrics based on which they learn a model.\n",
    "\n",
    "Data preparation is an **iterative procedure** whose decisions are strongly influenced by the tasks of Problem Definition and Model Selection, Training, and Evaluation."
   ]
  },
  {
   "cell_type": "code",
   "execution_count": null,
   "id": "361e3b60-2c4c-4fa8-9f60-d253c36fc5d9",
   "metadata": {},
   "outputs": [],
   "source": []
  }
 ],
 "metadata": {
  "kernelspec": {
   "display_name": "Python 3 (ipykernel)",
   "language": "python",
   "name": "python3"
  },
  "language_info": {
   "codemirror_mode": {
    "name": "ipython",
    "version": 3
   },
   "file_extension": ".py",
   "mimetype": "text/x-python",
   "name": "python",
   "nbconvert_exporter": "python",
   "pygments_lexer": "ipython3",
   "version": "3.9.7"
  }
 },
 "nbformat": 4,
 "nbformat_minor": 5
}
