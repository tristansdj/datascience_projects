{
 "cells": [
  {
   "cell_type": "markdown",
   "id": "2ff4e95b-cab5-441a-9a15-20ac46d3eb62",
   "metadata": {},
   "source": [
    "# The Applied Machine Learning Process"
   ]
  },
  {
   "cell_type": "markdown",
   "id": "36ff9410-28f4-4075-9233-7984dbf6b09b",
   "metadata": {},
   "source": [
    "## ML workflow vs ML pipeline\n",
    "In short, the ML workflow describes the sequential operations needed to develop a ML model while a ML pipeline automates these operations. <br>\n",
    "\n",
    "A ML workflow consists in \n",
    "1. Problem definition\n",
    "2. Data preparation\n",
    "3. Model selection, training, and evaluation\n",
    "4. Model release in production\n",
    "\n",
    "At the early stage of a ML project, the workflow is rather manual and oftentime executing in a single script. However, as the project scales and more models are added to the team's model portfolio, it becomes essential to perform each of these steps in an automated and modular fashion. That's where ML pipelines come in. Read [this article](https://www.datarobot.com/blog/what-a-machine-learning-pipeline-is-and-why-its-important/) for more details."
   ]
  },
  {
   "cell_type": "markdown",
   "id": "01f4d245-dae5-44cc-b1b8-f70ab4f1fa5f",
   "metadata": {},
   "source": [
    "## 1. Problem definition\n",
    "References: \n",
    "- [What is data preparation in a ML project?](https://machinelearningmastery.com/what-is-data-preparation-in-machine-learning/)\n",
    "\n",
    "This involves learning about the problem to guide you in selecting the framing of the prediction task. Talk with stakeholders and experts in the domain concerned with the predictions you want to make.\n",
    "\n",
    "\n",
    "Is it classification or regression, or other problem type? <br>\n",
    "What data do should you collect? What features of the data should you consider (aka feature engineering)?\n",
    "\n",
    "Exploratory analysis of samples of collected data (through summary statistics and visualization)."
   ]
  },
  {
   "cell_type": "markdown",
   "id": "d3659480-267f-4b06-bfca-7b8c4d372191",
   "metadata": {},
   "source": [
    "## 2. Data preparation\n",
    "References: DSGT Bootcamp on Udemy\n",
    "\n",
    "1. Select data\n",
    "    - what data is available?\n",
    "    - what data do I not need?\n",
    "    - what data I wish I had?\n",
    "    \n",
    "2. Preprocess data\n",
    "    - formatting: from a particular database format to another\n",
    "    - cleaning: do something with missing and misleading data\n",
    "    - sampling: subset of larget datasets for exploratory analyses\n",
    "    \n",
    "3. Transform data\n",
    "    - scale/normalize data\n",
    "    - attributes decomposition (eg, keeping the \"hour\" part of a date)\n",
    "    - attributes aggregation: group data together (eg, summing data together)"
   ]
  },
  {
   "cell_type": "markdown",
   "id": "8f2cd15e-9517-4a51-92c2-56a737cfb315",
   "metadata": {},
   "source": [
    "## 3. Model selection ,training, and evaluation\n",
    "References: \n",
    "- [What is data preparation in a ML project?](https://machinelearningmastery.com/what-is-data-preparation-in-machine-learning/)\n",
    "\n",
    "Select a portfolio of ML models to train and test against the prepared dataset. The models are trained and evaluated against some predictive performance threshold and computational performance level. The models are then compared. A model is then selected and validated for release in production (ie, the real world).\n",
    "\n",
    "Model training can be performed quickly with a single subset of the dataset or more thoroughly with k-fold cross-validation as the data resampling technique. \n",
    "\n",
    "The well-performing models are pre-screended for hyperparamter tuning before release in production. They may finally be further tested on a validation dataset not used during trainign and testing."
   ]
  },
  {
   "cell_type": "markdown",
   "id": "8f45ffaf-f3d9-419d-81f8-cb35265a14bb",
   "metadata": {},
   "source": [
    "## 4. Model release in production\n"
   ]
  },
  {
   "cell_type": "code",
   "execution_count": null,
   "id": "7677f700-45d3-4a35-acae-aa26cd471bdf",
   "metadata": {},
   "outputs": [],
   "source": []
  }
 ],
 "metadata": {
  "kernelspec": {
   "display_name": "Python 3 (ipykernel)",
   "language": "python",
   "name": "python3"
  },
  "language_info": {
   "codemirror_mode": {
    "name": "ipython",
    "version": 3
   },
   "file_extension": ".py",
   "mimetype": "text/x-python",
   "name": "python",
   "nbconvert_exporter": "python",
   "pygments_lexer": "ipython3",
   "version": "3.9.7"
  }
 },
 "nbformat": 4,
 "nbformat_minor": 5
}
